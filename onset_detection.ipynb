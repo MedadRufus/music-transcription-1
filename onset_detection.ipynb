{
 "cells": [
  {
   "cell_type": "code",
   "execution_count": 1,
   "metadata": {
    "collapsed": true
   },
   "outputs": [],
   "source": [
    "import math\n",
    "from matplotlib import pyplot as plt\n",
    "%matplotlib inline\n",
    "import numpy as np\n",
    "from os import listdir\n",
    "import os.path\n",
    "from os.path import isdir, isfile\n",
    "from random import shuffle\n",
    "from sklearn.ensemble import RandomForestClassifier\n",
    "from sklearn.metrics import classification_report\n",
    "from sklearn.model_selection import train_test_split\n",
    "from sklearn.neural_network import MLPClassifier\n",
    "from sklearn.preprocessing import StandardScaler\n",
    "import soundfile\n",
    "from xml.etree import ElementTree\n",
    "from warnings import warn"
   ]
  },
  {
   "cell_type": "code",
   "execution_count": 2,
   "metadata": {
    "collapsed": true
   },
   "outputs": [],
   "source": [
    "def read_X(path_to_wav, frame_rate_hz=100, subsampling_step=4):\n",
    "    # scipy.io.wavfile is not able to read 24-bit data hence the need to use this alternative library\n",
    "    samples, sample_rate = soundfile.read(path_to_wav)\n",
    "    if len(samples.shape) > 1:\n",
    "        warn('Cannot handle stereo signal (' + path_to_wav + '), skipping file.')\n",
    "        return None, -1\n",
    "    if sample_rate % frame_rate_hz != 0:\n",
    "        raise ValueError('Sample rate ' + str(sample_rate) + ' % frame rate ' + str(frame_rate_hz) + ' != 0')\n",
    "    samples_per_frame = int(sample_rate / frame_rate_hz)\n",
    "    offset = 0\n",
    "    X = []\n",
    "    # Cut off last samples\n",
    "    while offset <= len(samples) - samples_per_frame:\n",
    "        X.append(samples[offset:offset + samples_per_frame:subsampling_step])\n",
    "        offset += samples_per_frame\n",
    "\n",
    "    X = np.array(X)\n",
    "    return X, offset / sample_rate\n",
    "\n",
    "\n",
    "def read_y_xml(path_to_xml, length_seconds, dataset, frame_rate_hz=100):\n",
    "    tree = ElementTree.parse(path_to_xml)\n",
    "    root = tree.getroot()\n",
    "    y = _init_y(length_seconds, frame_rate_hz)\n",
    "    for root_child in root:\n",
    "        if root_child.tag == 'transcription':\n",
    "            for event in root_child:\n",
    "                if event.tag != 'event':\n",
    "                    raise ValueError('Unexpected XML element, expected event, got ' + event.tag)\n",
    "                for event_child in event:\n",
    "                    if event_child.tag == 'onsetSec':\n",
    "                        onset_time = float(event_child.text)\n",
    "                        index = _onset_index(onset_time, frame_rate_hz)\n",
    "                        _set_onset_label(y, index, dataset)\n",
    "            break\n",
    "\n",
    "    y = np.reshape(y, (-1, 1))\n",
    "    return y\n",
    "\n",
    "def read_y_csv(path_to_csv, length_seconds, dataset, frame_rate_hz=100):\n",
    "    y = _init_y(length_seconds, frame_rate_hz)\n",
    "    with open(path_to_csv) as f:\n",
    "        for line in f:\n",
    "            line_split = line.rstrip().split(',')\n",
    "            onset_time = float(line_split[0])\n",
    "            index = _onset_index(onset_time, frame_rate_hz)\n",
    "            _set_onset_label(y, index, dataset)\n",
    "    \n",
    "    y = np.reshape(y, (-1, 1))\n",
    "    return y\n",
    "            \n",
    "def _init_y(length_seconds, frame_rate_hz):\n",
    "    return np.zeros(round(frame_rate_hz * length_seconds), dtype=np.int8)\n",
    "\n",
    "def _onset_index(onset_time, frame_rate_hz):\n",
    "    return int(onset_time * frame_rate_hz)\n",
    "\n",
    "def _set_onset_label(y, index, dataset):\n",
    "    start = index\n",
    "    end = index\n",
    "    if dataset == 'ds1':\n",
    "        # Python-style indices: start included, end not included\n",
    "        start += -2\n",
    "        end += 1\n",
    "    elif dataset == 'ds2':\n",
    "        start += 2\n",
    "        end += 5\n",
    "    elif dataset == 'ds3':\n",
    "        start += 0\n",
    "        end += 3\n",
    "    elif dataset == 'ds4':\n",
    "        start += 0\n",
    "        end += 2\n",
    "    else:\n",
    "        raise ValueError('Invalid dataset label')\n",
    "    \n",
    "    start = max(0, start)\n",
    "    end = min(len(y), end)\n",
    "    if end - start > 0:\n",
    "        y[start:end] = 1\n",
    "    \n",
    "    # y[index] = 1\n",
    "\n",
    "\n",
    "def read_X_y(path_to_wav, path_to_truth, dataset, truth_format):\n",
    "    X_part, length_seconds = read_X(path_to_wav)\n",
    "    if X_part is not None:\n",
    "        if truth_format == 'xml':\n",
    "            y_part = read_y_xml(path_to_truth, length_seconds, dataset)\n",
    "        elif truth_format == 'csv':\n",
    "            y_part = read_y_csv(path_to_truth, length_seconds, dataset)\n",
    "        else:\n",
    "            raise ValueError('Unknown truth format')\n",
    "        \n",
    "        if X_part.shape[0] != y_part.shape[0]:\n",
    "            raise ValueError('X_part vs. y_part shape mismatch: ' + str(X_part.shape[0]) + ' != ' + str(y_part.shape[0]))\n",
    "        return X_part, y_part\n",
    "    else:\n",
    "        return None, None"
   ]
  },
  {
   "cell_type": "code",
   "execution_count": 3,
   "metadata": {
    "collapsed": false
   },
   "outputs": [
    {
     "name": "stdout",
     "output_type": "stream",
     "text": [
      "Active datasets: {'ds1', 'ds3', 'ds4', 'ds2'}\n"
     ]
    },
    {
     "name": "stderr",
     "output_type": "stream",
     "text": [
      "D:\\ProgramFiles\\Anaconda3_64\\lib\\site-packages\\ipykernel\\__main__.py:37: UserWarning: No truth found for AR_Lick11_FN.wav, skipping file.\n",
      "D:\\ProgramFiles\\Anaconda3_64\\lib\\site-packages\\ipykernel\\__main__.py:37: UserWarning: No truth found for AR_Lick11_KN.wav, skipping file.\n",
      "D:\\ProgramFiles\\Anaconda3_64\\lib\\site-packages\\ipykernel\\__main__.py:37: UserWarning: No truth found for AR_Lick11_MN.wav, skipping file.\n",
      "D:\\ProgramFiles\\Anaconda3_64\\lib\\site-packages\\ipykernel\\__main__.py:39: UserWarning: Skipping non-wav file data\\IDMT-SMT-GUITAR_V2\\dataset2\\audio\\desktop.ini\n",
      "D:\\ProgramFiles\\Anaconda3_64\\lib\\site-packages\\ipykernel\\__main__.py:37: UserWarning: No truth found for FS_Lick11_FN.wav, skipping file.\n",
      "D:\\ProgramFiles\\Anaconda3_64\\lib\\site-packages\\ipykernel\\__main__.py:37: UserWarning: No truth found for FS_Lick11_KN.wav, skipping file.\n",
      "D:\\ProgramFiles\\Anaconda3_64\\lib\\site-packages\\ipykernel\\__main__.py:37: UserWarning: No truth found for FS_Lick11_MN.wav, skipping file.\n",
      "D:\\ProgramFiles\\Anaconda3_64\\lib\\site-packages\\ipykernel\\__main__.py:37: UserWarning: No truth found for LP_Lick11_FN.wav, skipping file.\n",
      "D:\\ProgramFiles\\Anaconda3_64\\lib\\site-packages\\ipykernel\\__main__.py:37: UserWarning: No truth found for LP_Lick11_KN.wav, skipping file.\n",
      "D:\\ProgramFiles\\Anaconda3_64\\lib\\site-packages\\ipykernel\\__main__.py:37: UserWarning: No truth found for LP_Lick11_MN.wav, skipping file.\n",
      "D:\\ProgramFiles\\Anaconda3_64\\lib\\site-packages\\ipykernel\\__main__.py:58: UserWarning: Skipping data\\IDMT-SMT-GUITAR_V2\\dataset4\\Career SG\\fast\\country_folk\\audio\\country_1_150BPM.wav: no truth csv\n",
      "D:\\ProgramFiles\\Anaconda3_64\\lib\\site-packages\\ipykernel\\__main__.py:58: UserWarning: Skipping data\\IDMT-SMT-GUITAR_V2\\dataset4\\Career SG\\fast\\metal\\audio\\metal_3_135BPM.wav: no truth csv\n",
      "D:\\ProgramFiles\\Anaconda3_64\\lib\\site-packages\\ipykernel\\__main__.py:58: UserWarning: Skipping data\\IDMT-SMT-GUITAR_V2\\dataset4\\Career SG\\fast\\rock_blues\\audio\\rock_1_120BPM.wav: no truth csv\n",
      "D:\\ProgramFiles\\Anaconda3_64\\lib\\site-packages\\ipykernel\\__main__.py:58: UserWarning: Skipping data\\IDMT-SMT-GUITAR_V2\\dataset4\\Career SG\\fast\\rock_blues\\audio\\rock_2_115BPM.wav: no truth csv\n",
      "D:\\ProgramFiles\\Anaconda3_64\\lib\\site-packages\\ipykernel\\__main__.py:58: UserWarning: Skipping data\\IDMT-SMT-GUITAR_V2\\dataset4\\Ibanez 2820\\slow\\classical\\audio\\classical_8_100BPM.wav: no truth csv\n",
      "D:\\ProgramFiles\\Anaconda3_64\\lib\\site-packages\\ipykernel\\__main__.py:58: UserWarning: Skipping data\\IDMT-SMT-GUITAR_V2\\dataset4\\Ibanez 2820\\slow\\jazz\\audio\\jazz_1_160BPM.wav: no truth csv\n",
      "D:\\ProgramFiles\\Anaconda3_64\\lib\\site-packages\\ipykernel\\__main__.py:58: UserWarning: Skipping data\\IDMT-SMT-GUITAR_V2\\dataset4\\Ibanez 2820\\slow\\jazz\\audio\\jazz_2_170BPM.wav: no truth csv\n",
      "D:\\ProgramFiles\\Anaconda3_64\\lib\\site-packages\\ipykernel\\__main__.py:58: UserWarning: Skipping data\\IDMT-SMT-GUITAR_V2\\dataset4\\Ibanez 2820\\slow\\jazz\\audio\\jazz_3_120BPM.wav: no truth csv\n",
      "D:\\ProgramFiles\\Anaconda3_64\\lib\\site-packages\\ipykernel\\__main__.py:58: UserWarning: Skipping data\\IDMT-SMT-GUITAR_V2\\dataset4\\Ibanez 2820\\slow\\jazz\\audio\\jazz_4_70BPM.wav: no truth csv\n",
      "D:\\ProgramFiles\\Anaconda3_64\\lib\\site-packages\\ipykernel\\__main__.py:58: UserWarning: Skipping data\\IDMT-SMT-GUITAR_V2\\dataset4\\Ibanez 2820\\slow\\jazz\\audio\\jazz_5_80BPM.wav: no truth csv\n",
      "D:\\ProgramFiles\\Anaconda3_64\\lib\\site-packages\\ipykernel\\__main__.py:58: UserWarning: Skipping data\\IDMT-SMT-GUITAR_V2\\dataset4\\Ibanez 2820\\slow\\jazz\\audio\\jazz_6_150BPM.wav: no truth csv\n",
      "D:\\ProgramFiles\\Anaconda3_64\\lib\\site-packages\\ipykernel\\__main__.py:58: UserWarning: Skipping data\\IDMT-SMT-GUITAR_V2\\dataset4\\Ibanez 2820\\slow\\jazz\\audio\\jazz_7_140BPM.wav: no truth csv\n",
      "D:\\ProgramFiles\\Anaconda3_64\\lib\\site-packages\\ipykernel\\__main__.py:58: UserWarning: Skipping data\\IDMT-SMT-GUITAR_V2\\dataset4\\Ibanez 2820\\slow\\jazz\\audio\\jazz_8_110BPM.wav: no truth csv\n",
      "D:\\ProgramFiles\\Anaconda3_64\\lib\\site-packages\\ipykernel\\__main__.py:58: UserWarning: Skipping data\\IDMT-SMT-GUITAR_V2\\dataset4\\Ibanez 2820\\slow\\reggae_ska\\audio\\reggae_2_100BPM.wav: no truth csv\n",
      "D:\\ProgramFiles\\Anaconda3_64\\lib\\site-packages\\ipykernel\\__main__.py:58: UserWarning: Skipping data\\IDMT-SMT-GUITAR_V2\\dataset4\\Ibanez 2820\\slow\\rock_blues\\audio\\rock_5_100BPM.wav: no truth csv\n",
      "D:\\ProgramFiles\\Anaconda3_64\\lib\\site-packages\\ipykernel\\__main__.py:5: UserWarning: Cannot handle stereo signal (data\\IDMT-SMT-GUITAR_V2\\dataset3\\audio\\pathetique_poly.wav), skipping file.\n"
     ]
    },
    {
     "name": "stdout",
     "output_type": "stream",
     "text": [
      "(1171926, 111)\n",
      "(1171926,)\n",
      "51536\n"
     ]
    }
   ],
   "source": [
    "# TODO dataset einchecken, damit aenderungen zentral gemacht werden (anderes, privates repo)\n",
    "active_datasets = {'ds1', 'ds2', 'ds3', 'ds4'}\n",
    "print('Active datasets: ' + str(active_datasets))\n",
    "\n",
    "dir_tuples = []\n",
    "if 'ds1' in active_datasets:\n",
    "    path_to_ds_1 = r'data\\IDMT-SMT-GUITAR_V2\\dataset1'\n",
    "    for guitar_desc in listdir(path_to_ds_1):\n",
    "        dir_tuples.append((\n",
    "            os.path.join(path_to_ds_1, guitar_desc, 'audio'),\n",
    "            os.path.join(path_to_ds_1, guitar_desc, 'annotation'),\n",
    "            'ds1',\n",
    "        ))\n",
    "\n",
    "if 'ds2' in active_datasets:\n",
    "    dir_tuples.append((\n",
    "        r'data\\IDMT-SMT-GUITAR_V2\\dataset2\\audio',\n",
    "        r'data\\IDMT-SMT-GUITAR_V2\\dataset2\\annotation',\n",
    "        'ds2',\n",
    "    ))\n",
    "if 'ds3' in active_datasets:\n",
    "    dir_tuples.append((\n",
    "        r'data\\IDMT-SMT-GUITAR_V2\\dataset3\\audio',\n",
    "        r'data\\IDMT-SMT-GUITAR_V2\\dataset3\\annotation',\n",
    "        'ds3',\n",
    "    ))\n",
    "\n",
    "file_tuples = []\n",
    "for audio_dir, annotation_dir, ds in dir_tuples:\n",
    "    for wav_file in listdir(audio_dir):\n",
    "        path_to_wav = os.path.join(audio_dir, wav_file)\n",
    "        if wav_file.endswith('.wav'):\n",
    "            path_to_xml = os.path.join(annotation_dir, wav_file.replace('.wav', '.xml'))\n",
    "            if isfile(path_to_xml):\n",
    "                file_tuples.append((path_to_wav, path_to_xml, ds, 'xml'))\n",
    "            else:\n",
    "                warn('No truth found for ' + wav_file + ', skipping file.')\n",
    "        else:\n",
    "            warn('Skipping non-wav file ' + path_to_wav)\n",
    "\n",
    "if 'ds4' in active_datasets:\n",
    "    for path_to_ds in [r'data\\IDMT-SMT-GUITAR_V2\\dataset4\\Career SG', r'data\\IDMT-SMT-GUITAR_V2\\dataset4\\Ibanez 2820']:\n",
    "        for tempo in listdir(path_to_ds):\n",
    "            path_to_tempo = os.path.join(path_to_ds, tempo)\n",
    "            for genre in listdir(path_to_tempo):\n",
    "                path_to_genre = os.path.join(path_to_tempo, genre)\n",
    "                path_to_audio = os.path.join(path_to_genre, 'audio')\n",
    "                for wav_file in listdir(path_to_audio):\n",
    "                    path_to_wav = os.path.join(path_to_audio, wav_file)\n",
    "                    if wav_file.endswith('.wav'):\n",
    "                        path_to_onsets = os.path.join(path_to_genre, 'annotation', 'onsets')\n",
    "                        if isdir(path_to_onsets):\n",
    "                            path_to_csv = os.path.join(path_to_onsets, wav_file.replace('.wav', '.csv'))\n",
    "                            if isfile(path_to_csv):\n",
    "                                file_tuples.append((path_to_wav, path_to_csv, 'ds4', 'csv'))\n",
    "                            else:\n",
    "                                # TODO fallback to other formats\n",
    "                                warn('Skipping ' + path_to_wav + ': no truth csv')\n",
    "                        else:\n",
    "                            warn('Skipping ' + path_to_wav + ': no onset folder')\n",
    "                    else:\n",
    "                        warn('Skipping non-wav file ' + path_to_wav)\n",
    "\n",
    "X = []\n",
    "y = []\n",
    "for path_to_wav, path_to_truth, dataset, truth_format in file_tuples:\n",
    "    X_part, y_part = read_X_y(path_to_wav, path_to_truth, dataset, truth_format)\n",
    "    if X_part is not None and y_part is not None:\n",
    "        X.append(X_part)\n",
    "        y.append(y_part)\n",
    "\n",
    "X = np.concatenate(X)\n",
    "y = np.concatenate(y)\n",
    "y = y.ravel()\n",
    "print(X.shape)\n",
    "print(y.shape)\n",
    "print(sum(y))"
   ]
  },
  {
   "cell_type": "markdown",
   "metadata": {},
   "source": [
    "ds1: (97328, 111)  \n",
    "ds2: (345916, 111)  \n",
    "ds3: (5538, 111)  \n",
    "ds4: (723144, 111)  "
   ]
  },
  {
   "cell_type": "code",
   "execution_count": 4,
   "metadata": {
    "collapsed": false
   },
   "outputs": [
    {
     "name": "stdout",
     "output_type": "stream",
     "text": [
      "(937540, 111)\n",
      "(937540,)\n",
      "(234386, 111)\n",
      "(234386,)\n"
     ]
    }
   ],
   "source": [
    "X_train, X_test, y_train, y_test = train_test_split(X, y, test_size=0.2, random_state=42)\n",
    "\n",
    "# bound = int(len(X)*0.8)\n",
    "# X_train = X[:bound, :]\n",
    "# X_test = X[bound:, :]\n",
    "# y_train = y[:bound]\n",
    "# y_test = y[bound:]\n",
    "\n",
    "print(X_train.shape)\n",
    "print(y_train.shape)\n",
    "print(X_test.shape)\n",
    "print(y_test.shape)"
   ]
  },
  {
   "cell_type": "code",
   "execution_count": 5,
   "metadata": {
    "collapsed": true
   },
   "outputs": [],
   "source": [
    "ss = StandardScaler()\n",
    "X_train = ss.fit_transform(X_train)\n",
    "X_test = ss.transform(X_test)"
   ]
  },
  {
   "cell_type": "markdown",
   "metadata": {},
   "source": [
    "<br>\n",
    "<br>\n",
    "<br>\n",
    "<br>"
   ]
  },
  {
   "cell_type": "code",
   "execution_count": null,
   "metadata": {
    "collapsed": false
   },
   "outputs": [],
   "source": [
    "onsets = [i for i in range(len(y)) if y[i] == 1]\n",
    "print(len(onsets))\n",
    "# print(onsets)"
   ]
  },
  {
   "cell_type": "code",
   "execution_count": null,
   "metadata": {
    "collapsed": true
   },
   "outputs": [],
   "source": [
    "def plot_frame(frame, frame_size):\n",
    "    fig, ax = plt.subplots(figsize=(4, 4))\n",
    "    _ = ax.plot(range(len(frame)), frame)\n",
    "    \n",
    "    vertical_line_x = frame_size\n",
    "    while vertical_line_x < len(frame):\n",
    "        ax.axvline(x=vertical_line_x, color='red')\n",
    "        vertical_line_x += frame_size"
   ]
  },
  {
   "cell_type": "code",
   "execution_count": null,
   "metadata": {
    "collapsed": false
   },
   "outputs": [],
   "source": [
    "shuffle(onsets)\n",
    "onsets_part = onsets[:20]\n",
    "print(onsets_part)"
   ]
  },
  {
   "cell_type": "code",
   "execution_count": null,
   "metadata": {
    "collapsed": false
   },
   "outputs": [],
   "source": [
    "for i in onsets_part:\n",
    "    plot_frame(np.ravel(X[i-2:i+5, :]), X.shape[1])"
   ]
  },
  {
   "cell_type": "markdown",
   "metadata": {},
   "source": [
    "Analyse versch. Datasets, Onset Frames, 441 Samples / Frame = 100 Hz\n",
    "\n",
    "format:\n",
    "effektiver onset / erster ausschlag\n",
    "wenn nur ein wert: erster ausschlag\n",
    "\n",
    "ds1:\n",
    "[87238, 54493, 58755, 23774, 55508, 48497, 33519, 57751, 90489, 50501]\n",
    "-2 / 0\n",
    "-2 / 0\n",
    "? / -2\n",
    "? / -2\n",
    "? / ?\n",
    "? / -2\n",
    "-2 / 0\n",
    "? / ?\n",
    "-2 / 0\n",
    "? / -2\n",
    "\n",
    "uneinheitlich annotiert, z.t. deutlich zu spät\n",
    "\n",
    "--> -2 bis 0\n",
    "\n",
    "ds2:\n",
    "[298003, 321707, 21606, 311640, 123847, 149672, 4183, 42441, 81900, 164420]\n",
    "3/3\n",
    "3/4\n",
    "0/2\n",
    "0/3\n",
    "1/4\n",
    "1/3\n",
    "0/4\n",
    "2/3\n",
    "0/4\n",
    "1/3\n",
    "\n",
    "--> 2 bis 4\n",
    "\n",
    "ds3:\n",
    "[1605, 1950, 2537, 2611, 1777, 4485, 437, 2983, 2686, 1263]\n",
    "-4/0\n",
    "-1/0\n",
    "0/2\n",
    "1/2\n",
    "?/0\n",
    "?/1\n",
    "0/1\n",
    "0/0\n",
    "1/2\n",
    "?/0\n",
    "\n",
    "--> 0 bis 2\n",
    "\n",
    "ds4:\n",
    "[219738, 149302, 95957, 657513, 667847, 653544, 654901, 698624, 244043, 340672, 486978, 14403, 553750, 638052, 454921, 627638, 152653, 404285, 485007, 21380]\n",
    "?/?\n",
    "?/0\n",
    "0\n",
    "?\n",
    "1\n",
    "?\n",
    "?\n",
    "?\n",
    "1\n",
    "1\n",
    "0\n",
    "0\n",
    "0\n",
    "-2\n",
    "?\n",
    "?\n",
    "\n",
    "--> 0 bis 1"
   ]
  },
  {
   "cell_type": "code",
   "execution_count": null,
   "metadata": {
    "collapsed": false
   },
   "outputs": [],
   "source": [
    "# subsampling\n",
    "plot_frame(X[i+6])\n",
    "plot_frame(X[i+6][::4])"
   ]
  },
  {
   "cell_type": "markdown",
   "metadata": {},
   "source": [
    "conclusions (dataset 2, 100 Hz frames):<br>\n",
    "fruehster onset: ab frame 2<br>\n",
    "spaetester onset: bis und mit frame 5<br>\n",
    "4x subsampling scheint noch zu passen<br>\n",
    "\n",
    "min: ab frame 2 (882)\n",
    "max: bis und mit frame 5 (2646)\n",
    "4x subsampling scheint noch zu passen\n",
    "\n",
    "aktuell: 0-440\n",
    "neu: 441-2204 (4x)\n",
    "auch möglich: 50 Hz, 882-1763 oder 882-2646 oder schon ab 0\n",
    "oder: überschneidend\n",
    "<br>\n",
    "<br>\n",
    "<br>\n",
    "<br>"
   ]
  },
  {
   "cell_type": "code",
   "execution_count": 8,
   "metadata": {
    "collapsed": false
   },
   "outputs": [],
   "source": [
    "clf = RandomForestClassifier(n_jobs=-1, n_estimators=30)\n",
    "clf.fit(X_train, y_train)\n",
    "y_train_predicted = clf.predict(X_train)\n",
    "y_test_predicted = clf.predict(X_test)"
   ]
  },
  {
   "cell_type": "code",
   "execution_count": null,
   "metadata": {
    "collapsed": false
   },
   "outputs": [],
   "source": [
    "# ds2\n",
    "# y: nur frame 0\n",
    "print(classification_report(y_train, y_train_predicted))\n",
    "print(classification_report(y_test, y_test_predicted))"
   ]
  },
  {
   "cell_type": "code",
   "execution_count": null,
   "metadata": {
    "collapsed": false
   },
   "outputs": [],
   "source": [
    "# ds2\n",
    "# y: frame 1, 2, 3, 4\n",
    "print(classification_report(y_train, y_train_predicted))\n",
    "print(classification_report(y_test, y_test_predicted))"
   ]
  },
  {
   "cell_type": "code",
   "execution_count": null,
   "metadata": {
    "collapsed": false
   },
   "outputs": [],
   "source": [
    "# ds2\n",
    "# y: frame 1, 2, 3, 4\n",
    "# subsampling: 4x\n",
    "print(classification_report(y_train, y_train_predicted))\n",
    "print(classification_report(y_test, y_test_predicted))"
   ]
  },
  {
   "cell_type": "code",
   "execution_count": null,
   "metadata": {
    "collapsed": false
   },
   "outputs": [],
   "source": [
    "# ds1 + ds2\n",
    "# y: frame 1, 2, 3, 4\n",
    "# subsampling: 4x\n",
    "print(classification_report(y_train, y_train_predicted))\n",
    "print(classification_report(y_test, y_test_predicted))"
   ]
  },
  {
   "cell_type": "code",
   "execution_count": null,
   "metadata": {
    "collapsed": false
   },
   "outputs": [],
   "source": [
    "# ds1 + ds2\n",
    "# y: depending on the dataset\n",
    "# subsampling: 4x\n",
    "print(classification_report(y_train, y_train_predicted))\n",
    "print(classification_report(y_test, y_test_predicted))"
   ]
  },
  {
   "cell_type": "code",
   "execution_count": null,
   "metadata": {
    "collapsed": false
   },
   "outputs": [],
   "source": [
    "# ds1 + ds2 + ds3\n",
    "# y: frame 1, 2, 3, 4\n",
    "# subsampling: 4x\n",
    "print(classification_report(y_train, y_train_predicted))\n",
    "print(classification_report(y_test, y_test_predicted))"
   ]
  },
  {
   "cell_type": "code",
   "execution_count": 7,
   "metadata": {
    "collapsed": false
   },
   "outputs": [
    {
     "name": "stdout",
     "output_type": "stream",
     "text": [
      "             precision    recall  f1-score   support\n",
      "\n",
      "          0       0.99      1.00      1.00    896320\n",
      "          1       1.00      0.85      0.92     41220\n",
      "\n",
      "avg / total       0.99      0.99      0.99    937540\n",
      "\n",
      "             precision    recall  f1-score   support\n",
      "\n",
      "          0       0.96      1.00      0.98    224070\n",
      "          1       0.75      0.10      0.18     10316\n",
      "\n",
      "avg / total       0.95      0.96      0.94    234386\n",
      "\n"
     ]
    }
   ],
   "source": [
    "# ds1 + ds2 + ds3 + ds4\n",
    "# y: depending on the dataset\n",
    "# subsampling: 4x\n",
    "print(classification_report(y_train, y_train_predicted))\n",
    "print(classification_report(y_test, y_test_predicted))"
   ]
  },
  {
   "cell_type": "code",
   "execution_count": 9,
   "metadata": {
    "collapsed": false
   },
   "outputs": [
    {
     "name": "stdout",
     "output_type": "stream",
     "text": [
      "             precision    recall  f1-score   support\n",
      "\n",
      "          0       1.00      1.00      1.00    896320\n",
      "          1       1.00      0.97      0.99     41220\n",
      "\n",
      "avg / total       1.00      1.00      1.00    937540\n",
      "\n",
      "             precision    recall  f1-score   support\n",
      "\n",
      "          0       0.96      1.00      0.98    224070\n",
      "          1       0.86      0.11      0.19     10316\n",
      "\n",
      "avg / total       0.96      0.96      0.94    234386\n",
      "\n"
     ]
    }
   ],
   "source": [
    "# ds1 + ds2 + ds3 + ds4\n",
    "# y: depending on the dataset\n",
    "# subsampling: 4x\n",
    "# n_estimators=30\n",
    "print(classification_report(y_train, y_train_predicted))\n",
    "print(classification_report(y_test, y_test_predicted))"
   ]
  }
 ],
 "metadata": {
  "anaconda-cloud": {},
  "kernelspec": {
   "display_name": "Python [conda root]",
   "language": "python",
   "name": "conda-root-py"
  },
  "language_info": {
   "codemirror_mode": {
    "name": "ipython",
    "version": 3
   },
   "file_extension": ".py",
   "mimetype": "text/x-python",
   "name": "python",
   "nbconvert_exporter": "python",
   "pygments_lexer": "ipython3",
   "version": "3.5.2"
  }
 },
 "nbformat": 4,
 "nbformat_minor": 1
}
