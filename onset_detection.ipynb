{
 "cells": [
  {
   "cell_type": "code",
   "execution_count": 30,
   "metadata": {
    "collapsed": true
   },
   "outputs": [],
   "source": [
    "import math\n",
    "import numpy as np\n",
    "from os import listdir\n",
    "import os.path\n",
    "from os.path import isfile\n",
    "from sklearn.ensemble import RandomForestClassifier\n",
    "from sklearn.metrics import classification_report\n",
    "from sklearn.model_selection import train_test_split\n",
    "from sklearn.neural_network import MLPClassifier\n",
    "import soundfile\n",
    "from xml.etree import ElementTree\n",
    "from warnings import warn"
   ]
  },
  {
   "cell_type": "code",
   "execution_count": 25,
   "metadata": {
    "collapsed": true
   },
   "outputs": [],
   "source": [
    "def read_X(path_to_wav, frame_rate_hz):\n",
    "    # scipy.io.wavfile is not able to read 24-bit data hence the need to change this alternative library\n",
    "    samples, sample_rate = soundfile.read(path_to_wav)\n",
    "    if sample_rate % frame_rate_hz != 0:\n",
    "        raise ValueError('Sample rate ' + str(sample_rate) + ' % frame rate ' + str(frame_rate_hz) + ' != 0')\n",
    "    samples_per_frame = int(sample_rate / frame_rate_hz)\n",
    "    offset = 0\n",
    "    # TODO subsampling\n",
    "    X = []\n",
    "    # Cut off last samples\n",
    "    while offset <= len(samples) - samples_per_frame:\n",
    "        X.append(samples[offset:offset + samples_per_frame])\n",
    "        offset += samples_per_frame\n",
    "\n",
    "    X = np.array(X)\n",
    "    return X, X.size / sample_rate\n",
    "\n",
    "\n",
    "# TODO check that this is perfectly in sync with the actual onset to learn the right thing.\n",
    "def read_y(path_to_xml, frame_rate_hz, length_seconds):\n",
    "    tree = ElementTree.parse(path_to_xml)\n",
    "    root = tree.getroot()\n",
    "    y = np.zeros(round(frame_rate_hz * length_seconds), dtype=np.int8)\n",
    "    for root_child in root:\n",
    "        if root_child.tag == 'transcription':\n",
    "            for event in root_child:\n",
    "                if event.tag != 'event':\n",
    "                    raise ValueError('Unexpected XML element, expected event, got ' + event.tag)\n",
    "                for event_child in event:\n",
    "                    if event_child.tag == 'onsetSec':\n",
    "                        index = int(float(event_child.text) * frame_rate_hz)\n",
    "                        y[index] = 1\n",
    "            break\n",
    "\n",
    "    y = np.reshape(y, (-1, 1))\n",
    "    return y"
   ]
  },
  {
   "cell_type": "code",
   "execution_count": 26,
   "metadata": {
    "collapsed": false
   },
   "outputs": [
    {
     "name": "stderr",
     "output_type": "stream",
     "text": [
      "D:\\ProgramFiles\\Anaconda3_64\\lib\\site-packages\\ipykernel\\__main__.py:26: UserWarning: No truth found for AR_Lick11_FN.wav, skipping file.\n",
      "D:\\ProgramFiles\\Anaconda3_64\\lib\\site-packages\\ipykernel\\__main__.py:26: UserWarning: No truth found for AR_Lick11_KN.wav, skipping file.\n",
      "D:\\ProgramFiles\\Anaconda3_64\\lib\\site-packages\\ipykernel\\__main__.py:26: UserWarning: No truth found for AR_Lick11_MN.wav, skipping file.\n",
      "D:\\ProgramFiles\\Anaconda3_64\\lib\\site-packages\\ipykernel\\__main__.py:26: UserWarning: No truth found for FS_Lick11_FN.wav, skipping file.\n",
      "D:\\ProgramFiles\\Anaconda3_64\\lib\\site-packages\\ipykernel\\__main__.py:26: UserWarning: No truth found for FS_Lick11_KN.wav, skipping file.\n",
      "D:\\ProgramFiles\\Anaconda3_64\\lib\\site-packages\\ipykernel\\__main__.py:26: UserWarning: No truth found for FS_Lick11_MN.wav, skipping file.\n",
      "D:\\ProgramFiles\\Anaconda3_64\\lib\\site-packages\\ipykernel\\__main__.py:26: UserWarning: No truth found for LP_Lick11_FN.wav, skipping file.\n",
      "D:\\ProgramFiles\\Anaconda3_64\\lib\\site-packages\\ipykernel\\__main__.py:26: UserWarning: No truth found for LP_Lick11_KN.wav, skipping file.\n",
      "D:\\ProgramFiles\\Anaconda3_64\\lib\\site-packages\\ipykernel\\__main__.py:26: UserWarning: No truth found for LP_Lick11_MN.wav, skipping file.\n"
     ]
    },
    {
     "name": "stdout",
     "output_type": "stream",
     "text": [
      "(345916, 441)\n",
      "(345916, 1)\n"
     ]
    }
   ],
   "source": [
    "# TODO dataset einchecken, damit aenderungen zentral gemacht werden (anderes, privates repo)\n",
    "frame_rate_hz = 100\n",
    "data_dir = 'data/IDMT-SMT-GUITAR_V2/dataset2'\n",
    "audio_dir = os.path.join(data_dir, 'audio')\n",
    "annotation_dir = os.path.join(data_dir, 'annotation')\n",
    "X = None\n",
    "y = None\n",
    "for wav_file in listdir(audio_dir):\n",
    "    if wav_file.endswith('.wav'):\n",
    "        X_part, length_seconds = read_X(os.path.join(audio_dir, wav_file), frame_rate_hz)\n",
    "        path_to_xml = os.path.join(annotation_dir, wav_file.replace('.wav', '.xml'))\n",
    "        if isfile(path_to_xml):\n",
    "            y_part = read_y(path_to_xml, frame_rate_hz, length_seconds)\n",
    "            if X_part.shape[0] != y_part.shape[0]:\n",
    "                raise ValueError('X vs. y shape mismatch: ' + str(X_part.shape[0]) + ' != ' + str(y_part.shape[0]))\n",
    "            # TODO is there a faster way than this vstacking?\n",
    "            if X is None:\n",
    "                X = X_part\n",
    "            else:\n",
    "                X = np.vstack((X, X_part))\n",
    "            if y is None:\n",
    "                y = y_part\n",
    "            else:\n",
    "                y = np.vstack((y, y_part))\n",
    "        else:\n",
    "            warn('No truth found for ' + wav_file + ', skipping file.')\n",
    "\n",
    "print(X.shape)\n",
    "print(y.shape)"
   ]
  },
  {
   "cell_type": "code",
   "execution_count": 27,
   "metadata": {
    "collapsed": false
   },
   "outputs": [
    {
     "name": "stdout",
     "output_type": "stream",
     "text": [
      "(345916, 1)\n",
      "(345916,)\n",
      "(276732, 441)\n",
      "(276732,)\n",
      "(69184, 441)\n",
      "(69184,)\n"
     ]
    }
   ],
   "source": [
    "print(y.shape)\n",
    "y = y.ravel()\n",
    "print(y.shape)\n",
    "X_train, X_test, y_train, y_test = train_test_split(X, y, test_size=0.2, random_state=42)\n",
    "print(X_train.shape)\n",
    "print(y_train.shape)\n",
    "print(X_test.shape)\n",
    "print(y_test.shape)"
   ]
  },
  {
   "cell_type": "code",
   "execution_count": 31,
   "metadata": {
    "collapsed": false
   },
   "outputs": [],
   "source": [
    "# clf = RandomForestClassifier(n_jobs=-1)\n",
    "clf = MLPClassifier()\n",
    "clf.fit(X_train, y_train)\n",
    "y_train_predicted = clf.predict(X_train)\n",
    "y_test_predicted = clf.predict(X_test)"
   ]
  },
  {
   "cell_type": "code",
   "execution_count": 29,
   "metadata": {
    "collapsed": false
   },
   "outputs": [
    {
     "name": "stdout",
     "output_type": "stream",
     "text": [
      "             precision    recall  f1-score   support\n",
      "\n",
      "          0       1.00      1.00      1.00    273663\n",
      "          1       1.00      0.77      0.87      3069\n",
      "\n",
      "avg / total       1.00      1.00      1.00    276732\n",
      "\n",
      "             precision    recall  f1-score   support\n",
      "\n",
      "          0       0.99      1.00      0.99     68464\n",
      "          1       0.00      0.00      0.00       720\n",
      "\n",
      "avg / total       0.98      0.99      0.98     69184\n",
      "\n"
     ]
    }
   ],
   "source": [
    "print(classification_report(y_train, y_train_predicted))\n",
    "print(classification_report(y_test, y_test_predicted))"
   ]
  },
  {
   "cell_type": "code",
   "execution_count": 32,
   "metadata": {
    "collapsed": false
   },
   "outputs": [
    {
     "name": "stdout",
     "output_type": "stream",
     "text": [
      "             precision    recall  f1-score   support\n",
      "\n",
      "          0       0.99      1.00      0.99    273663\n",
      "          1       0.97      0.01      0.02      3069\n",
      "\n",
      "avg / total       0.99      0.99      0.98    276732\n",
      "\n",
      "             precision    recall  f1-score   support\n",
      "\n",
      "          0       0.99      1.00      0.99     68464\n",
      "          1       0.00      0.00      0.00       720\n",
      "\n",
      "avg / total       0.98      0.99      0.98     69184\n",
      "\n"
     ]
    }
   ],
   "source": [
    "print(classification_report(y_train, y_train_predicted))\n",
    "print(classification_report(y_test, y_test_predicted))"
   ]
  },
  {
   "cell_type": "markdown",
   "metadata": {},
   "source": [
    "- plot X vs y obs stimmt\n",
    "- zu wenige daten?"
   ]
  }
 ],
 "metadata": {
  "anaconda-cloud": {},
  "kernelspec": {
   "display_name": "Python [conda root]",
   "language": "python",
   "name": "conda-root-py"
  },
  "language_info": {
   "codemirror_mode": {
    "name": "ipython",
    "version": 3
   },
   "file_extension": ".py",
   "mimetype": "text/x-python",
   "name": "python",
   "nbconvert_exporter": "python",
   "pygments_lexer": "ipython3",
   "version": "3.5.2"
  }
 },
 "nbformat": 4,
 "nbformat_minor": 1
}
