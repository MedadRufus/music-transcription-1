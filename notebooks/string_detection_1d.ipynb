{
 "cells": [
  {
   "cell_type": "code",
   "execution_count": 1,
   "metadata": {
    "collapsed": false,
    "jupyter": {
     "outputs_hidden": false
    }
   },
   "outputs": [
    {
     "name": "stderr",
     "output_type": "stream",
     "text": [
      "Using Theano backend.\n"
     ]
    }
   ],
   "source": [
    "from keras import backend as K\n",
    "from keras.callbacks import EarlyStopping\n",
    "from keras.models import Sequential\n",
    "from keras.layers import Activation, Conv1D, Dense, Dropout, Flatten, MaxPooling1D\n",
    "from keras.wrappers.scikit_learn import KerasClassifier\n",
    "\n",
    "from matplotlib import pyplot as plt\n",
    "%matplotlib inline\n",
    "import numpy as np\n",
    "from math import ceil\n",
    "\n",
    "from sklearn.metrics import classification_report\n",
    "from sklearn.model_selection import train_test_split\n",
    "from sklearn.preprocessing import StandardScaler, MultiLabelBinarizer\n",
    "from sklearn.model_selection import train_test_split\n",
    "\n",
    "# append parent folder to path for imports\n",
    "import sys\n",
    "import os\n",
    "PACKAGE_PARENT = '..'\n",
    "SCRIPT_DIR = os.path.dirname(os.path.realpath(os.path.join(os.getcwd(), os.path.expanduser('__file__'))))\n",
    "sys.path.append(os.path.normpath(os.path.join(SCRIPT_DIR, PACKAGE_PARENT)))\n",
    "\n",
    "from music_transcription.onset_detection.metrics import onset_metric\n",
    "from music_transcription.onset_detection.read_data import get_wav_and_truth_files\n",
    "from music_transcription.string_fret_detection.read_data import read_data_y\n",
    "from music_transcription.string_fret_detection.cnn_string_detector import CnnStringDetector, CnnStringFeatureExtractor"
   ]
  },
  {
   "cell_type": "code",
   "execution_count": 2,
   "metadata": {
    "collapsed": false,
    "jupyter": {
     "outputs_hidden": false
    },
    "scrolled": true
   },
   "outputs": [],
   "source": [
    "active_datasets = {1, 2, 3, 4}\n",
    "active_datasets = {1}\n",
    "# X_parts, y_parts, y_start_only_parts, ds_labels\n",
    "wav_file_paths, truth_dataset_format_tuples = get_wav_and_truth_files(active_datasets)\n",
    "wav_file_paths_train, wav_file_paths_test, truth_dataset_format_tuples_train, truth_dataset_format_tuples_test = train_test_split(\n",
    "    wav_file_paths, truth_dataset_format_tuples, test_size=0.2, random_state=42\n",
    ")"
   ]
  },
  {
   "cell_type": "code",
   "execution_count": 12,
   "metadata": {
    "collapsed": true,
    "jupyter": {
     "outputs_hidden": true
    }
   },
   "outputs": [],
   "source": [
    "data_train, _, _ = read_data_y(wav_file_paths_train, truth_dataset_format_tuples_train, 44100, 1, 6, 0.05)\n",
    "samples, onsets, pitches, strings = data_train"
   ]
  },
  {
   "cell_type": "code",
   "execution_count": 60,
   "metadata": {
    "collapsed": false,
    "jupyter": {
     "outputs_hidden": false
    }
   },
   "outputs": [
    {
     "name": "stdout",
     "output_type": "stream",
     "text": [
      "Fitting standard scaler\n",
      "Standardizing samples\n"
     ]
    },
    {
     "data": {
      "text/plain": [
       "(77699, 441, 1)"
      ]
     },
     "execution_count": 60,
     "metadata": {},
     "output_type": "execute_result"
    }
   ],
   "source": [
    "fe = CnnStringFeatureExtractor(6, 441)\n",
    "X = fe.fit_transform(data_train[0])\n",
    "X.shape"
   ]
  },
  {
   "cell_type": "code",
   "execution_count": 13,
   "metadata": {
    "collapsed": false,
    "jupyter": {
     "outputs_hidden": false
    }
   },
   "outputs": [
    {
     "name": "stdout",
     "output_type": "stream",
     "text": [
      "320 320 (110250,) (94585,)\n",
      "(34255306,)\n"
     ]
    }
   ],
   "source": [
    "print(len(wav_file_paths_train), len(X), X[0].shape, X[7].shape)\n",
    "print(np.concatenate(X).ravel().shape) # flatten"
   ]
  },
  {
   "cell_type": "code",
   "execution_count": 14,
   "metadata": {
    "collapsed": false,
    "jupyter": {
     "outputs_hidden": false
    }
   },
   "outputs": [
    {
     "name": "stdout",
     "output_type": "stream",
     "text": [
      "320 320 320\n"
     ]
    }
   ],
   "source": [
    "print(len(onsets), len(pitches), len(strings))"
   ]
  },
  {
   "cell_type": "code",
   "execution_count": 15,
   "metadata": {
    "collapsed": false,
    "jupyter": {
     "outputs_hidden": false
    }
   },
   "outputs": [
    {
     "data": {
      "text/plain": [
       "[[{1}],\n",
       " [{1}],\n",
       " [{1, 2, 3, 4, 5, 6}],\n",
       " [{2}],\n",
       " [{4}],\n",
       " [{5}],\n",
       " [{1}],\n",
       " [{5}],\n",
       " [{2, 3, 4}, {5, 6}],\n",
       " [{1, 2, 3, 4, 5, 6}],\n",
       " [{2, 3, 4, 5, 6}],\n",
       " [{1}],\n",
       " [{2, 3, 4, 5, 6}],\n",
       " [{1, 2, 3, 4, 5, 6}],\n",
       " [{6}],\n",
       " [{6}],\n",
       " [{4}],\n",
       " [{6}],\n",
       " [{2, 3, 4, 5, 6}],\n",
       " [{6}],\n",
       " [{1}],\n",
       " [{2, 3, 4}, {5, 6}],\n",
       " [{2}],\n",
       " [{6}],\n",
       " [{2}],\n",
       " [{1}],\n",
       " [{2}],\n",
       " [{1}],\n",
       " [{4}],\n",
       " [{3}],\n",
       " [{1}],\n",
       " [{5}],\n",
       " [{3}],\n",
       " [{6}],\n",
       " [{4}],\n",
       " [{5}],\n",
       " [{1, 2, 3, 4, 5, 6}],\n",
       " [{5}],\n",
       " [{6}],\n",
       " [{3}],\n",
       " [{3}],\n",
       " [{2, 3, 4, 5, 6}],\n",
       " [{3}],\n",
       " [{3}],\n",
       " [{2}],\n",
       " [{4}],\n",
       " [{3}],\n",
       " [{2}],\n",
       " [{3}],\n",
       " [{1}],\n",
       " [{5}],\n",
       " [{3}],\n",
       " [{2}],\n",
       " [{6}],\n",
       " [{2, 3, 4, 5, 6}],\n",
       " [{6}],\n",
       " [{2, 3, 4, 5, 6}],\n",
       " [{1}],\n",
       " [{1, 2, 3, 4, 5, 6}],\n",
       " [{5}],\n",
       " [{4}],\n",
       " [{3}],\n",
       " [{5}],\n",
       " [{4}],\n",
       " [{6}],\n",
       " [{4}],\n",
       " [{4}],\n",
       " [{2, 3, 4, 5, 6}],\n",
       " [{4}],\n",
       " [{5}],\n",
       " [{2}],\n",
       " [{1}],\n",
       " [{2}],\n",
       " [{2}],\n",
       " [{2}],\n",
       " [{6}],\n",
       " [{2, 3, 4, 5, 6}],\n",
       " [{1, 2, 3, 4, 5, 6}],\n",
       " [{6}],\n",
       " [{6}],\n",
       " [{4}],\n",
       " [{1, 2, 3, 4, 5, 6}],\n",
       " [{3}],\n",
       " [{4}],\n",
       " [{2}],\n",
       " [{1, 2, 3, 4, 5, 6}],\n",
       " [{6}],\n",
       " [{5}],\n",
       " [{3}],\n",
       " [{2}, {3, 4, 5, 6}],\n",
       " [{1, 2, 3, 4, 5, 6}],\n",
       " [{5}],\n",
       " [{1}],\n",
       " [{1, 2, 3, 4, 5, 6}],\n",
       " [{1}],\n",
       " [{1}],\n",
       " [{1, 2, 3, 4, 5, 6}],\n",
       " [{2, 3, 4, 5, 6}],\n",
       " [{6}],\n",
       " [{3}],\n",
       " [{3}],\n",
       " [{2}],\n",
       " [{1}],\n",
       " [{5}],\n",
       " [{5}],\n",
       " [{6}],\n",
       " [{1}],\n",
       " [{1, 2, 3, 4, 5, 6}],\n",
       " [{6}],\n",
       " [{6}],\n",
       " [{1}],\n",
       " [{2}],\n",
       " [{4}],\n",
       " [{1, 2, 3, 4, 5, 6}],\n",
       " [{2}],\n",
       " [{1}],\n",
       " [{1}],\n",
       " [{3}],\n",
       " [{2}],\n",
       " [{6}],\n",
       " [{6}],\n",
       " [{1, 2, 3, 4, 5, 6}],\n",
       " [{3}],\n",
       " [{1, 2, 3, 4, 5, 6}],\n",
       " [{4}],\n",
       " [{1}],\n",
       " [{4}],\n",
       " [{1}],\n",
       " [{1}],\n",
       " [{5}],\n",
       " [{2, 3, 4, 5, 6}],\n",
       " [{2, 3, 4, 5, 6}],\n",
       " [{5}],\n",
       " [{1}],\n",
       " [{6}],\n",
       " [{2, 3, 4, 5, 6}],\n",
       " [{4}],\n",
       " [{4}],\n",
       " [{4}],\n",
       " [{4}],\n",
       " [{4}],\n",
       " [{3}],\n",
       " [{1}],\n",
       " [{2}],\n",
       " [{3}],\n",
       " [{6}],\n",
       " [{6}],\n",
       " [{6}],\n",
       " [{1}],\n",
       " [{1, 2, 3, 4, 5, 6}],\n",
       " [{2, 3, 4, 5, 6}],\n",
       " [{2, 3, 4, 5, 6}],\n",
       " [{2, 3, 4, 5, 6}],\n",
       " [{2}],\n",
       " [{2, 3, 4, 5, 6}],\n",
       " [{3}],\n",
       " [{2, 3, 4, 5, 6}],\n",
       " [{4}],\n",
       " [{4}],\n",
       " [{2}],\n",
       " [{5}],\n",
       " [{1}],\n",
       " [{6}],\n",
       " [{1}],\n",
       " [{3}],\n",
       " [{1, 2, 3, 4, 5, 6}],\n",
       " [{5}],\n",
       " [{2, 3}, {4, 5, 6}],\n",
       " [{1}],\n",
       " [{5}],\n",
       " [{1}],\n",
       " [{1}],\n",
       " [{4}],\n",
       " [{4}],\n",
       " [{5}],\n",
       " [{3}],\n",
       " [{5}],\n",
       " [{1, 2, 3, 4, 5, 6}],\n",
       " [{2, 3, 4, 5, 6}],\n",
       " [{6}],\n",
       " [{3}],\n",
       " [{2}],\n",
       " [{3}],\n",
       " [{2}],\n",
       " [{3}],\n",
       " [{3}],\n",
       " [{6}],\n",
       " [{2}],\n",
       " [{1, 2, 3, 4, 5, 6}],\n",
       " [{1, 2, 3, 4, 5, 6}],\n",
       " [{4}],\n",
       " [{2, 3, 4, 5, 6}],\n",
       " [{5}],\n",
       " [{5}],\n",
       " [{4}],\n",
       " [{5}],\n",
       " [{6}],\n",
       " [{1, 2, 3, 4, 5, 6}],\n",
       " [{2}],\n",
       " [{1}],\n",
       " [{1}],\n",
       " [{2}],\n",
       " [{4}],\n",
       " [{2, 3, 4, 5, 6}],\n",
       " [{2, 3}, {4, 5, 6}],\n",
       " [{2}],\n",
       " [{1, 2, 3, 4, 5, 6}],\n",
       " [{4}],\n",
       " [{1, 2, 3, 4, 5, 6}],\n",
       " [{1, 2, 3, 4, 5, 6}],\n",
       " [{6}],\n",
       " [{5}],\n",
       " [{3}],\n",
       " [{3}],\n",
       " [{1, 2, 3, 4, 5, 6}],\n",
       " [{2}],\n",
       " [{3}],\n",
       " [{6}],\n",
       " [{2}, {3, 4}, {5, 6}],\n",
       " [{2}],\n",
       " [{5}],\n",
       " [{4}],\n",
       " [{3}],\n",
       " [{2}],\n",
       " [{4}],\n",
       " [{1}],\n",
       " [{2}],\n",
       " [{2}],\n",
       " [{6}],\n",
       " [{4}],\n",
       " [{2}],\n",
       " [{2}],\n",
       " [{4}],\n",
       " [{5}],\n",
       " [{1}],\n",
       " [{1, 2, 3, 4, 5, 6}],\n",
       " [{3}],\n",
       " [{2}],\n",
       " [{2}, {3}, {4}, {5, 6}],\n",
       " [{1, 2, 3, 4, 5, 6}],\n",
       " [{1, 2, 3, 4, 5, 6}],\n",
       " [{4}],\n",
       " [{3}],\n",
       " [{1}],\n",
       " [{6}],\n",
       " [{4}],\n",
       " [{4}],\n",
       " [{3}],\n",
       " [{1, 2, 3, 4, 5, 6}],\n",
       " [{3}],\n",
       " [{4}],\n",
       " [{1, 2, 3, 4, 5, 6}],\n",
       " [{6}],\n",
       " [{5}],\n",
       " [{1}],\n",
       " [{2, 3, 4, 5, 6}],\n",
       " [{4}],\n",
       " [{1}],\n",
       " [{4}],\n",
       " [{1, 2, 3, 4, 5, 6}],\n",
       " [{1, 2, 3, 4, 5, 6}],\n",
       " [{2}],\n",
       " [{2}],\n",
       " [{1, 2, 3, 4, 5, 6}],\n",
       " [{3}],\n",
       " [{5}],\n",
       " [{3}],\n",
       " [{3}],\n",
       " [{2, 3, 4, 5, 6}],\n",
       " [{1}],\n",
       " [{5}],\n",
       " [{1, 2, 3, 4, 5, 6}],\n",
       " [{3}],\n",
       " [{5}],\n",
       " [{2}],\n",
       " [{5}],\n",
       " [{2}],\n",
       " [{4}],\n",
       " [{6}],\n",
       " [{6}],\n",
       " [{2}, {3, 4, 5, 6}],\n",
       " [{5}],\n",
       " [{5}],\n",
       " [{5}],\n",
       " [{5}],\n",
       " [{6}],\n",
       " [{5}],\n",
       " [{5}],\n",
       " [{6}],\n",
       " [{3}],\n",
       " [{2}],\n",
       " [{2, 3, 4, 5, 6}],\n",
       " [{2}],\n",
       " [{1}],\n",
       " [{5}],\n",
       " [{4}],\n",
       " [{3}],\n",
       " [{5}],\n",
       " [{4}],\n",
       " [{1}],\n",
       " [{1}],\n",
       " [{6}],\n",
       " [{3}],\n",
       " [{2}],\n",
       " [{3}],\n",
       " [{3}],\n",
       " [{1, 2, 3, 4, 5, 6}],\n",
       " [{5}],\n",
       " [{1, 2, 3, 4, 5, 6}],\n",
       " [{2}],\n",
       " [{1, 2, 3, 4, 5, 6}],\n",
       " [{2, 3, 4, 5, 6}],\n",
       " [{6}],\n",
       " [{3}],\n",
       " [{6}],\n",
       " [{5}],\n",
       " [{2, 3, 4}, {5, 6}],\n",
       " [{2}],\n",
       " [{2}],\n",
       " [{2}, {3, 4, 5, 6}]]"
      ]
     },
     "execution_count": 15,
     "metadata": {},
     "output_type": "execute_result"
    }
   ],
   "source": [
    "strings"
   ]
  },
  {
   "cell_type": "code",
   "execution_count": 16,
   "metadata": {
    "collapsed": false,
    "jupyter": {
     "outputs_hidden": false
    }
   },
   "outputs": [
    {
     "data": {
      "text/plain": [
       "[[0.2],\n",
       " [0.2],\n",
       " [0.2],\n",
       " [0.2],\n",
       " [0.2],\n",
       " [0.2],\n",
       " [0.237],\n",
       " [0.2],\n",
       " [0.2, 0.33],\n",
       " [0.217],\n",
       " [0.198],\n",
       " [0.232],\n",
       " [0.2],\n",
       " [0.198],\n",
       " [0.2],\n",
       " [0.2],\n",
       " [0.211],\n",
       " [0.2],\n",
       " [0.2],\n",
       " [0.2],\n",
       " [0.221],\n",
       " [0.2, 0.31],\n",
       " [0.2],\n",
       " [0.2],\n",
       " [0.212],\n",
       " [0.2],\n",
       " [0.2],\n",
       " [0.226],\n",
       " [0.21],\n",
       " [0.204],\n",
       " [0.215],\n",
       " [0.241],\n",
       " [0.2],\n",
       " [0.202],\n",
       " [0.2],\n",
       " [0.2],\n",
       " [0.208],\n",
       " [0.206],\n",
       " [0.208],\n",
       " [0.2],\n",
       " [0.2],\n",
       " [0.2],\n",
       " [0.19],\n",
       " [0.2],\n",
       " [0.2],\n",
       " [0.2],\n",
       " [0.2],\n",
       " [0.2],\n",
       " [0.2],\n",
       " [0.226],\n",
       " [0.207],\n",
       " [0.2],\n",
       " [0.2],\n",
       " [0.2],\n",
       " [0.2],\n",
       " [0.2],\n",
       " [0.198],\n",
       " [0.2],\n",
       " [0.2],\n",
       " [0.2],\n",
       " [0.2],\n",
       " [0.2],\n",
       " [0.204],\n",
       " [0.2],\n",
       " [0.2],\n",
       " [0.2],\n",
       " [0.2],\n",
       " [0.168],\n",
       " [0.2],\n",
       " [0.2],\n",
       " [0.2],\n",
       " [0.236],\n",
       " [0.2],\n",
       " [0.2],\n",
       " [0.2],\n",
       " [0.2],\n",
       " [0.189],\n",
       " [0.199],\n",
       " [0.2],\n",
       " [0.202],\n",
       " [0.205],\n",
       " [0.2],\n",
       " [0.2],\n",
       " [0.2],\n",
       " [0.205],\n",
       " [0.167],\n",
       " [0.2],\n",
       " [0.2],\n",
       " [0.2],\n",
       " [0.2, 0.256],\n",
       " [0.186],\n",
       " [0.2],\n",
       " [0.215],\n",
       " [0.2],\n",
       " [0.233],\n",
       " [0.219],\n",
       " [0.196],\n",
       " [0.193],\n",
       " [0.2],\n",
       " [0.2],\n",
       " [0.2],\n",
       " [0.2],\n",
       " [0.227],\n",
       " [0.2],\n",
       " [0.2],\n",
       " [0.2],\n",
       " [0.225],\n",
       " [0.197],\n",
       " [0.222],\n",
       " [0.2],\n",
       " [0.227],\n",
       " [0.2],\n",
       " [0.205],\n",
       " [0.17],\n",
       " [0.2],\n",
       " [0.224],\n",
       " [0.219],\n",
       " [0.2],\n",
       " [0.2],\n",
       " [0.205],\n",
       " [0.207],\n",
       " [0.198],\n",
       " [0.2],\n",
       " [0.2],\n",
       " [0.2],\n",
       " [0.215],\n",
       " [0.2],\n",
       " [0.2],\n",
       " [0.219],\n",
       " [0.2],\n",
       " [0.199],\n",
       " [0.19],\n",
       " [0.202],\n",
       " [0.225],\n",
       " [0.2],\n",
       " [0.2],\n",
       " [0.205],\n",
       " [0.207],\n",
       " [0.215],\n",
       " [0.2],\n",
       " [0.204],\n",
       " [0.2],\n",
       " [0.214],\n",
       " [0.205],\n",
       " [0.2],\n",
       " [0.2],\n",
       " [0.202],\n",
       " [0.213],\n",
       " [0.2],\n",
       " [0.2],\n",
       " [0.2],\n",
       " [0.198],\n",
       " [0.198],\n",
       " [0.2],\n",
       " [0.2],\n",
       " [0.2],\n",
       " [0.198],\n",
       " [0.214],\n",
       " [0.212],\n",
       " [0.226],\n",
       " [0.2],\n",
       " [0.223],\n",
       " [0.2],\n",
       " [0.227],\n",
       " [0.2],\n",
       " [0.174],\n",
       " [0.207],\n",
       " [0.186, 0.29],\n",
       " [0.2],\n",
       " [0.205],\n",
       " [0.227],\n",
       " [0.227],\n",
       " [0.21],\n",
       " [0.2],\n",
       " [0.2],\n",
       " [0.209],\n",
       " [0.2],\n",
       " [0.166],\n",
       " [0.2],\n",
       " [0.224],\n",
       " [0.2],\n",
       " [0.2],\n",
       " [0.2],\n",
       " [0.2],\n",
       " [0.2],\n",
       " [0.2],\n",
       " [0.2],\n",
       " [0.2],\n",
       " [0.198],\n",
       " [0.2],\n",
       " [0.2],\n",
       " [0.2],\n",
       " [0.207],\n",
       " [0.2],\n",
       " [0.2],\n",
       " [0.19],\n",
       " [0.2],\n",
       " [0.2],\n",
       " [0.2],\n",
       " [0.232],\n",
       " [0.2],\n",
       " [0.2],\n",
       " [0.24],\n",
       " [0.179],\n",
       " [0.198, 0.299],\n",
       " [0.226],\n",
       " [0.2],\n",
       " [0.2],\n",
       " [0.183],\n",
       " [0.2],\n",
       " [0.2],\n",
       " [0.2],\n",
       " [0.2],\n",
       " [0.2],\n",
       " [0.205],\n",
       " [0.212],\n",
       " [0.2],\n",
       " [0.206],\n",
       " [0.197, 0.257, 0.362],\n",
       " [0.2],\n",
       " [0.2],\n",
       " [0.202],\n",
       " [0.206],\n",
       " [0.2],\n",
       " [0.2],\n",
       " [0.223],\n",
       " [0.2],\n",
       " [0.2],\n",
       " [0.2],\n",
       " [0.2],\n",
       " [0.2],\n",
       " [0.208],\n",
       " [0.2],\n",
       " [0.2],\n",
       " [0.236],\n",
       " [0.198],\n",
       " [0.2],\n",
       " [0.238],\n",
       " [0.2, 0.256, 0.316, 0.369],\n",
       " [0.2],\n",
       " [0.2],\n",
       " [0.2],\n",
       " [0.206],\n",
       " [0.204],\n",
       " [0.2],\n",
       " [0.218],\n",
       " [0.219],\n",
       " [0.2],\n",
       " [0.214],\n",
       " [0.2],\n",
       " [0.2],\n",
       " [0.197],\n",
       " [0.2],\n",
       " [0.2],\n",
       " [0.216],\n",
       " [0.2],\n",
       " [0.2],\n",
       " [0.2],\n",
       " [0.2],\n",
       " [0.211],\n",
       " [0.2],\n",
       " [0.2],\n",
       " [0.2],\n",
       " [0.22],\n",
       " [0.2],\n",
       " [0.2],\n",
       " [0.2],\n",
       " [0.2],\n",
       " [0.2],\n",
       " [0.2],\n",
       " [0.211],\n",
       " [0.195],\n",
       " [0.2],\n",
       " [0.2],\n",
       " [0.21],\n",
       " [0.2],\n",
       " [0.2],\n",
       " [0.2],\n",
       " [0.215],\n",
       " [0.2],\n",
       " [0.198, 0.253],\n",
       " [0.2],\n",
       " [0.2],\n",
       " [0.215],\n",
       " [0.212],\n",
       " [0.212],\n",
       " [0.2],\n",
       " [0.2],\n",
       " [0.2],\n",
       " [0.2],\n",
       " [0.228],\n",
       " [0.192],\n",
       " [0.2],\n",
       " [0.2],\n",
       " [0.2],\n",
       " [0.212],\n",
       " [0.2],\n",
       " [0.212],\n",
       " [0.207],\n",
       " [0.217],\n",
       " [0.2],\n",
       " [0.2],\n",
       " [0.2],\n",
       " [0.204],\n",
       " [0.2],\n",
       " [0.2],\n",
       " [0.195],\n",
       " [0.213],\n",
       " [0.186],\n",
       " [0.238],\n",
       " [0.204],\n",
       " [0.2],\n",
       " [0.2],\n",
       " [0.2],\n",
       " [0.2],\n",
       " [0.2],\n",
       " [0.192, 0.31],\n",
       " [0.2],\n",
       " [0.221],\n",
       " [0.188, 0.24]]"
      ]
     },
     "execution_count": 16,
     "metadata": {},
     "output_type": "execute_result"
    }
   ],
   "source": [
    "onsets"
   ]
  },
  {
   "cell_type": "code",
   "execution_count": 17,
   "metadata": {
    "collapsed": false,
    "jupyter": {
     "outputs_hidden": false
    }
   },
   "outputs": [
    {
     "data": {
      "text/plain": [
       "array([[0, 0, 0, 0, 0, 0]])"
      ]
     },
     "execution_count": 17,
     "metadata": {},
     "output_type": "execute_result"
    }
   ],
   "source": [
    "label_binarizer = MultiLabelBinarizer(classes=range(1, 7))\n",
    "label_binarizer.fit(None)  # fit needs to be called before transform\n",
    "cur_y = label_binarizer.transform([[]])\n",
    "cur_y"
   ]
  },
  {
   "cell_type": "code",
   "execution_count": 18,
   "metadata": {
    "collapsed": false,
    "jupyter": {
     "outputs_hidden": false
    }
   },
   "outputs": [
    {
     "data": {
      "text/plain": [
       "array([[0, 0, 0, 0, 0, 0]])"
      ]
     },
     "execution_count": 18,
     "metadata": {},
     "output_type": "execute_result"
    }
   ],
   "source": [
    "np.zeros((1,6)).astype('int')"
   ]
  },
  {
   "cell_type": "code",
   "execution_count": 19,
   "metadata": {
    "collapsed": false,
    "jupyter": {
     "outputs_hidden": false
    }
   },
   "outputs": [
    {
     "data": {
      "text/plain": [
       "array([[0, 1, 1, 1, 0, 0],\n",
       "       [0, 0, 0, 0, 1, 1]])"
      ]
     },
     "execution_count": 19,
     "metadata": {},
     "output_type": "execute_result"
    }
   ],
   "source": [
    "label_binarizer.transform(strings[8])"
   ]
  },
  {
   "cell_type": "code",
   "execution_count": 40,
   "metadata": {
    "collapsed": false,
    "jupyter": {
     "outputs_hidden": false
    }
   },
   "outputs": [
    {
     "ename": "NameError",
     "evalue": "name 'vlue' is not defined",
     "output_type": "error",
     "traceback": [
      "\u001b[0;31m---------------------------------------------------------------------------\u001b[0m",
      "\u001b[0;31mNameError\u001b[0m                                 Traceback (most recent call last)",
      "\u001b[0;32m<ipython-input-40-49d591a42d33>\u001b[0m in \u001b[0;36m<module>\u001b[0;34m()\u001b[0m\n\u001b[1;32m     26\u001b[0m \u001b[0mvalue\u001b[0m \u001b[1;33m=\u001b[0m \u001b[0mend\u001b[0m \u001b[1;33m-\u001b[0m \u001b[0mstart\u001b[0m\u001b[1;33m\u001b[0m\u001b[0m\n\u001b[1;32m     27\u001b[0m \u001b[0mtimestamp\u001b[0m \u001b[1;33m=\u001b[0m \u001b[0mdatetime\u001b[0m\u001b[1;33m.\u001b[0m\u001b[0mdatetime\u001b[0m\u001b[1;33m.\u001b[0m\u001b[0mfromtimestamp\u001b[0m\u001b[1;33m(\u001b[0m\u001b[0mvalue\u001b[0m\u001b[1;33m)\u001b[0m\u001b[1;33m\u001b[0m\u001b[0m\n\u001b[0;32m---> 28\u001b[0;31m \u001b[0mprint\u001b[0m\u001b[1;33m(\u001b[0m\u001b[0mvlue\u001b[0m\u001b[1;33m,\u001b[0m \u001b[1;34m'->'\u001b[0m\u001b[1;33m,\u001b[0m \u001b[0mtimestamp\u001b[0m\u001b[1;33m.\u001b[0m\u001b[0mstrftime\u001b[0m\u001b[1;33m(\u001b[0m\u001b[1;34m'%H:%M:%S'\u001b[0m\u001b[1;33m)\u001b[0m\u001b[1;33m)\u001b[0m\u001b[1;33m\u001b[0m\u001b[0m\n\u001b[0m",
      "\u001b[0;31mNameError\u001b[0m: name 'vlue' is not defined"
     ]
    }
   ],
   "source": [
    "### VERY SLOW ###\n",
    "import time, datetime\n",
    "\n",
    "start = time.clock()\n",
    "\n",
    "y = np.array([]).reshape(-1, 6)\n",
    "no_string = np.zeros((1,6)).astype('uint8')\n",
    "for i in range(len(strings)):\n",
    "    frame = 0\n",
    "    cur_y = no_string\n",
    "    for j in range(len(onsets[i])):\n",
    "        frame_end_prev = max(0, int(onsets[i][j]*100)-3)  # TODO consider offset detection!\n",
    "        for k in range(frame, frame_end_prev):\n",
    "            y = np.vstack((y, cur_y))  # label prev strings\n",
    "        frame = max(0, int(onsets[i][j]*100)-1)  # update frame: label even one frame before onset!\n",
    "        for k in range(frame_end_prev, frame):\n",
    "            y = np.vstack((y, no_string))  # label empty strings between\n",
    "        cur_y = label_binarizer.transform([strings[i][j]]).astype('uint8')  # update current strings\n",
    "        # TODO add pitch list?\n",
    "\n",
    "    # write last note until the end\n",
    "    total_frames = ceil(samples[i].shape[0] / 441)\n",
    "    for k in range(frame, total_frames + 1):\n",
    "        y = np.vstack((y, cur_y))  # label prev strings\n",
    "\n",
    "end = time.clock()\n",
    "value = end - start\n",
    "timestamp = datetime.datetime.fromtimestamp(value)\n",
    "print(value, '->', timestamp.strftime('%M:%S'))"
   ]
  },
  {
   "cell_type": "code",
   "execution_count": 52,
   "metadata": {
    "collapsed": false,
    "jupyter": {
     "outputs_hidden": false
    }
   },
   "outputs": [
    {
     "name": "stdout",
     "output_type": "stream",
     "text": [
      "0.3580416655619274 -> 00:00\n"
     ]
    }
   ],
   "source": [
    "import time, datetime\n",
    "\n",
    "start = time.clock()\n",
    "\n",
    "y = np.array([]).reshape(-1, 6)\n",
    "no_string = np.zeros((1,6)).astype('uint8')\n",
    "for i in range(len(strings)):\n",
    "    frame = 0\n",
    "    cur_y = no_string\n",
    "    total_frames = ceil(samples[i].shape[0] / 441)\n",
    "    yy = np.empty((total_frames, 6), 'uint8')\n",
    "    for j in range(len(onsets[i])):\n",
    "        frame_end_prev = max(0, int(onsets[i][j]*100)-3)  # TODO consider offset detection!\n",
    "        for k in range(frame, frame_end_prev):\n",
    "            yy[k] = cur_y  # label prev strings\n",
    "        frame = max(0, int(onsets[i][j]*100)-1)  # update frame: label even one frame before onset!\n",
    "        for k in range(frame_end_prev, frame):\n",
    "            yy[k] = no_string  # label empty strings between\n",
    "        cur_y = label_binarizer.transform([strings[i][j]]).astype('uint8')  # update current strings\n",
    "        # TODO add pitch list?\n",
    "\n",
    "    # write last note until the end\n",
    "    for k in range(frame, total_frames):\n",
    "        yy[k] = cur_y  # label prev strings\n",
    "    \n",
    "    # append yy to y\n",
    "    y = np.vstack((y, yy))\n",
    "\n",
    "end = time.clock()\n",
    "value = end - start\n",
    "timestamp = datetime.datetime.fromtimestamp(value)\n",
    "print(value, '->', timestamp.strftime('%M:%S'))"
   ]
  },
  {
   "cell_type": "code",
   "execution_count": 54,
   "metadata": {
    "collapsed": false,
    "jupyter": {
     "outputs_hidden": false
    }
   },
   "outputs": [
    {
     "name": "stdout",
     "output_type": "stream",
     "text": [
      "0.09744886744147152 -> 00:00\n"
     ]
    }
   ],
   "source": [
    "start = time.clock()\n",
    "\n",
    "y_list = []\n",
    "no_string = np.zeros((1, 6)).astype('uint8')\n",
    "for i in range(len(strings)):\n",
    "    frame = 0\n",
    "    cur_y = no_string\n",
    "    total_frames = ceil(samples[i].shape[0] / 441)\n",
    "    y = np.empty((total_frames, 6), 'uint8')\n",
    "    for j in range(len(onsets[i])):\n",
    "        frame_end_prev = max(0, int(onsets[i][j] * 100) - 3)  # TODO consider offset detection!\n",
    "        for k in range(frame, frame_end_prev):\n",
    "            y[k] = cur_y  # label prev strings\n",
    "        frame = max(0, int(onsets[i][j] * 100) - 1)  # update frame: label even one frame before onset!\n",
    "        for k in range(frame_end_prev, frame):\n",
    "            y[k] = no_string  # label empty strings between\n",
    "        cur_y = label_binarizer.transform([strings[i][j]]).astype('uint8')  # update current strings\n",
    "        # TODO add pitch list?\n",
    "\n",
    "    # write last note until the end\n",
    "    for k in range(frame, total_frames):\n",
    "        y[k] = cur_y  # label prev strings\n",
    "\n",
    "    y_list.append(y)\n",
    "\n",
    "y = np.concatenate(y_list)\n",
    "    \n",
    "end = time.clock()\n",
    "print(end - start, '->', timestamp.strftime('%M:%S'))"
   ]
  },
  {
   "cell_type": "code",
   "execution_count": 53,
   "metadata": {
    "collapsed": false,
    "jupyter": {
     "outputs_hidden": false
    }
   },
   "outputs": [
    {
     "data": {
      "text/plain": [
       "(77699, 6)"
      ]
     },
     "execution_count": 53,
     "metadata": {},
     "output_type": "execute_result"
    }
   ],
   "source": [
    "y.shape"
   ]
  },
  {
   "cell_type": "code",
   "execution_count": 39,
   "metadata": {
    "collapsed": false,
    "jupyter": {
     "outputs_hidden": false
    }
   },
   "outputs": [
    {
     "data": {
      "text/plain": [
       "(78019, 6)"
      ]
     },
     "execution_count": 39,
     "metadata": {},
     "output_type": "execute_result"
    }
   ],
   "source": [
    "y.shape"
   ]
  },
  {
   "cell_type": "code",
   "execution_count": 17,
   "metadata": {
    "collapsed": false,
    "jupyter": {
     "outputs_hidden": false
    }
   },
   "outputs": [
    {
     "name": "stdout",
     "output_type": "stream",
     "text": [
      "(110250,)\n",
      "250.0 -> 250\n"
     ]
    }
   ],
   "source": [
    "print(X[0].shape)\n",
    "print(X[0].shape[0] / 441, '->', ceil(X[0].shape[0] / 441))"
   ]
  },
  {
   "cell_type": "code",
   "execution_count": 14,
   "metadata": {
    "collapsed": false,
    "jupyter": {
     "outputs_hidden": false
    }
   },
   "outputs": [
    {
     "data": {
      "text/plain": [
       "array([[ 0.,  0.,  0.,  0.,  0.,  0.],\n",
       "       [ 2.,  2.,  2.,  2.,  2.,  2.],\n",
       "       [ 1.,  1.,  1.,  1.,  1.,  1.]])"
      ]
     },
     "execution_count": 14,
     "metadata": {},
     "output_type": "execute_result"
    }
   ],
   "source": [
    "A = np.array([]).reshape(-1, 6)\n",
    "A = np.vstack((A, np.zeros((1,6))))\n",
    "A = np.vstack((A, np.ones((1,6)) + 1))\n",
    "A = np.vstack((A, np.ones((1,6))))\n",
    "A"
   ]
  },
  {
   "cell_type": "code",
   "execution_count": null,
   "metadata": {
    "collapsed": true,
    "jupyter": {
     "outputs_hidden": true
    }
   },
   "outputs": [],
   "source": []
  }
 ],
 "metadata": {
  "anaconda-cloud": {},
  "kernelspec": {
   "display_name": "Python 3",
   "language": "python",
   "name": "python3"
  },
  "language_info": {
   "codemirror_mode": {
    "name": "ipython",
    "version": 3
   },
   "file_extension": ".py",
   "mimetype": "text/x-python",
   "name": "python",
   "nbconvert_exporter": "python",
   "pygments_lexer": "ipython3",
   "version": "3.7.3"
  }
 },
 "nbformat": 4,
 "nbformat_minor": 4
}
