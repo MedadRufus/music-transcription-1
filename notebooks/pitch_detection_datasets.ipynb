{
 "cells": [
  {
   "cell_type": "code",
   "execution_count": 1,
   "metadata": {
    "collapsed": false
   },
   "outputs": [],
   "source": [
    "from collections import defaultdict\n",
    "\n",
    "from matplotlib import pyplot as plt\n",
    "%matplotlib inline\n",
    "\n",
    "import os\n",
    "import sys\n",
    "\n",
    "module_path = os.path.abspath('..')\n",
    "if module_path not in sys.path:\n",
    "    sys.path.append(module_path)\n",
    "from music_transcription.pitch_detection.read_data import _read_onset_times_pitches\n",
    "from music_transcription.read_data import get_wav_and_truth_files"
   ]
  },
  {
   "cell_type": "code",
   "execution_count": 2,
   "metadata": {
    "collapsed": true
   },
   "outputs": [],
   "source": [
    "def count_pitches(active_datasets, min_pitch=40, max_pitch=88):\n",
    "    wav_file_paths, truth_dataset_format_tuples = get_wav_and_truth_files(active_datasets)\n",
    "    pitches = defaultdict(int)\n",
    "    for path_to_xml, dataset, truth_format in truth_dataset_format_tuples:\n",
    "        if truth_format != 'xml':\n",
    "            raise ValueError('Unsupported format {}'.format(truth_format))\n",
    "        _, pitches_grouped = _read_onset_times_pitches(path_to_xml, 40, 88, dataset, 0.05)\n",
    "        if pitches_grouped is not None:\n",
    "            for pitch_group in pitches_grouped:\n",
    "                for pitch in pitch_group:\n",
    "                    pitches[pitch] += 1\n",
    "\n",
    "    for pitch in range(min_pitch, max_pitch + 1):\n",
    "        if pitch not in pitches:\n",
    "            pitches[pitch] = 0\n",
    "                    \n",
    "    return pitches\n",
    "\n",
    "\n",
    "def print_pitches(pitches):\n",
    "    print('PITCHES')\n",
    "    print('min pitch = {}'.format(min(pitches.keys())))\n",
    "    print('max pitch = {}'.format(max(pitches.keys())))\n",
    "    print('nr of pitches = {}'.format(sum(pitches.values())))\n",
    "    for pitch, count in sorted(pitches.items()):\n",
    "        print('{}: {}'.format(pitch, count))"
   ]
  },
  {
   "cell_type": "code",
   "execution_count": 13,
   "metadata": {
    "collapsed": false
   },
   "outputs": [
    {
     "name": "stdout",
     "output_type": "stream",
     "text": [
      "PITCHES\n",
      "min pitch = 40\n",
      "max pitch = 88\n",
      "nr of pitches = 4242\n",
      "40: 48\n",
      "41: 12\n",
      "42: 3\n",
      "43: 42\n",
      "44: 3\n",
      "45: 171\n",
      "46: 6\n",
      "47: 99\n",
      "48: 312\n",
      "49: 81\n",
      "50: 243\n",
      "51: 9\n",
      "52: 294\n",
      "53: 84\n",
      "54: 222\n",
      "55: 213\n",
      "56: 141\n",
      "57: 243\n",
      "58: 54\n",
      "59: 342\n",
      "60: 141\n",
      "61: 255\n",
      "62: 255\n",
      "63: 24\n",
      "64: 273\n",
      "65: 36\n",
      "66: 63\n",
      "67: 129\n",
      "68: 12\n",
      "69: 198\n",
      "70: 12\n",
      "71: 24\n",
      "72: 42\n",
      "73: 21\n",
      "74: 57\n",
      "75: 9\n",
      "76: 9\n",
      "77: 6\n",
      "78: 21\n",
      "79: 9\n",
      "80: 3\n",
      "81: 3\n",
      "82: 3\n",
      "83: 9\n",
      "84: 3\n",
      "85: 0\n",
      "86: 0\n",
      "87: 0\n",
      "88: 3\n"
     ]
    },
    {
     "name": "stderr",
     "output_type": "stream",
     "text": [
      "C:\\Users\\Michel\\FH\\IP6\\git\\music_transcription\\read_data.py:133: UserWarning: Skipping AR_Lick11_FN.wav, no truth found.\n",
      "  warn('Skipping ' + wav_file + ', no truth found.')\n",
      "C:\\Users\\Michel\\FH\\IP6\\git\\music_transcription\\read_data.py:133: UserWarning: Skipping AR_Lick11_KN.wav, no truth found.\n",
      "  warn('Skipping ' + wav_file + ', no truth found.')\n",
      "C:\\Users\\Michel\\FH\\IP6\\git\\music_transcription\\read_data.py:133: UserWarning: Skipping AR_Lick11_MN.wav, no truth found.\n",
      "  warn('Skipping ' + wav_file + ', no truth found.')\n",
      "C:\\Users\\Michel\\FH\\IP6\\git\\music_transcription\\read_data.py:135: UserWarning: Skipping ..\\data\\IDMT-SMT-GUITAR_V2\\dataset2\\audio\\desktop.ini, not a .wav file.\n",
      "  warn('Skipping ' + path_to_wav + ', not a .wav file.')\n",
      "C:\\Users\\Michel\\FH\\IP6\\git\\music_transcription\\read_data.py:133: UserWarning: Skipping FS_Lick11_FN.wav, no truth found.\n",
      "  warn('Skipping ' + wav_file + ', no truth found.')\n",
      "C:\\Users\\Michel\\FH\\IP6\\git\\music_transcription\\read_data.py:133: UserWarning: Skipping FS_Lick11_KN.wav, no truth found.\n",
      "  warn('Skipping ' + wav_file + ', no truth found.')\n",
      "C:\\Users\\Michel\\FH\\IP6\\git\\music_transcription\\read_data.py:133: UserWarning: Skipping FS_Lick11_MN.wav, no truth found.\n",
      "  warn('Skipping ' + wav_file + ', no truth found.')\n",
      "C:\\Users\\Michel\\FH\\IP6\\git\\music_transcription\\read_data.py:133: UserWarning: Skipping LP_Lick11_FN.wav, no truth found.\n",
      "  warn('Skipping ' + wav_file + ', no truth found.')\n",
      "C:\\Users\\Michel\\FH\\IP6\\git\\music_transcription\\read_data.py:133: UserWarning: Skipping LP_Lick11_KN.wav, no truth found.\n",
      "  warn('Skipping ' + wav_file + ', no truth found.')\n",
      "C:\\Users\\Michel\\FH\\IP6\\git\\music_transcription\\read_data.py:133: UserWarning: Skipping LP_Lick11_MN.wav, no truth found.\n",
      "  warn('Skipping ' + wav_file + ', no truth found.')\n",
      "C:\\Users\\Michel\\FH\\IP6\\git\\music_transcription\\pitch_detection\\read_data.py:164: UserWarning: Skipping ..\\data\\IDMT-SMT-GUITAR_V2\\dataset2\\annotation\\AR_NH_IV.xml, pitch 92 is out of range.\n",
      "  warn('Skipping {}, pitch {} is out of range.'.format(path_to_xml, pitch))\n",
      "C:\\Users\\Michel\\FH\\IP6\\git\\music_transcription\\pitch_detection\\read_data.py:164: UserWarning: Skipping ..\\data\\IDMT-SMT-GUITAR_V2\\dataset2\\annotation\\AR_NH_IX.xml, pitch 92 is out of range.\n",
      "  warn('Skipping {}, pitch {} is out of range.'.format(path_to_xml, pitch))\n",
      "C:\\Users\\Michel\\FH\\IP6\\git\\music_transcription\\pitch_detection\\read_data.py:164: UserWarning: Skipping ..\\data\\IDMT-SMT-GUITAR_V2\\dataset2\\annotation\\FS_NH_IV.xml, pitch 92 is out of range.\n",
      "  warn('Skipping {}, pitch {} is out of range.'.format(path_to_xml, pitch))\n",
      "C:\\Users\\Michel\\FH\\IP6\\git\\music_transcription\\pitch_detection\\read_data.py:164: UserWarning: Skipping ..\\data\\IDMT-SMT-GUITAR_V2\\dataset2\\annotation\\FS_NH_IX.xml, pitch 92 is out of range.\n",
      "  warn('Skipping {}, pitch {} is out of range.'.format(path_to_xml, pitch))\n",
      "C:\\Users\\Michel\\FH\\IP6\\git\\music_transcription\\pitch_detection\\read_data.py:164: UserWarning: Skipping ..\\data\\IDMT-SMT-GUITAR_V2\\dataset2\\annotation\\LP_NH_IV.xml, pitch 92 is out of range.\n",
      "  warn('Skipping {}, pitch {} is out of range.'.format(path_to_xml, pitch))\n",
      "C:\\Users\\Michel\\FH\\IP6\\git\\music_transcription\\pitch_detection\\read_data.py:164: UserWarning: Skipping ..\\data\\IDMT-SMT-GUITAR_V2\\dataset2\\annotation\\LP_NH_IX.xml, pitch 92 is out of range.\n",
      "  warn('Skipping {}, pitch {} is out of range.'.format(path_to_xml, pitch))\n"
     ]
    }
   ],
   "source": [
    "print_pitches(count_pitches({2}))"
   ]
  },
  {
   "cell_type": "code",
   "execution_count": 10,
   "metadata": {
    "collapsed": false
   },
   "outputs": [
    {
     "name": "stderr",
     "output_type": "stream",
     "text": [
      "C:\\Users\\Michel\\FH\\IP6\\git\\music_transcription\\read_data.py:133: UserWarning: Skipping AR_Lick11_FN.wav, no truth found.\n",
      "  warn('Skipping ' + wav_file + ', no truth found.')\n",
      "C:\\Users\\Michel\\FH\\IP6\\git\\music_transcription\\read_data.py:133: UserWarning: Skipping AR_Lick11_KN.wav, no truth found.\n",
      "  warn('Skipping ' + wav_file + ', no truth found.')\n",
      "C:\\Users\\Michel\\FH\\IP6\\git\\music_transcription\\read_data.py:133: UserWarning: Skipping AR_Lick11_MN.wav, no truth found.\n",
      "  warn('Skipping ' + wav_file + ', no truth found.')\n",
      "C:\\Users\\Michel\\FH\\IP6\\git\\music_transcription\\read_data.py:135: UserWarning: Skipping ..\\data\\IDMT-SMT-GUITAR_V2\\dataset2\\audio\\desktop.ini, not a .wav file.\n",
      "  warn('Skipping ' + path_to_wav + ', not a .wav file.')\n",
      "C:\\Users\\Michel\\FH\\IP6\\git\\music_transcription\\read_data.py:133: UserWarning: Skipping FS_Lick11_FN.wav, no truth found.\n",
      "  warn('Skipping ' + wav_file + ', no truth found.')\n",
      "C:\\Users\\Michel\\FH\\IP6\\git\\music_transcription\\read_data.py:133: UserWarning: Skipping FS_Lick11_KN.wav, no truth found.\n",
      "  warn('Skipping ' + wav_file + ', no truth found.')\n",
      "C:\\Users\\Michel\\FH\\IP6\\git\\music_transcription\\read_data.py:133: UserWarning: Skipping FS_Lick11_MN.wav, no truth found.\n",
      "  warn('Skipping ' + wav_file + ', no truth found.')\n",
      "C:\\Users\\Michel\\FH\\IP6\\git\\music_transcription\\read_data.py:133: UserWarning: Skipping LP_Lick11_FN.wav, no truth found.\n",
      "  warn('Skipping ' + wav_file + ', no truth found.')\n",
      "C:\\Users\\Michel\\FH\\IP6\\git\\music_transcription\\read_data.py:133: UserWarning: Skipping LP_Lick11_KN.wav, no truth found.\n",
      "  warn('Skipping ' + wav_file + ', no truth found.')\n",
      "C:\\Users\\Michel\\FH\\IP6\\git\\music_transcription\\read_data.py:133: UserWarning: Skipping LP_Lick11_MN.wav, no truth found.\n",
      "  warn('Skipping ' + wav_file + ', no truth found.')\n",
      "C:\\Users\\Michel\\FH\\IP6\\git\\music_transcription\\read_data.py:133: UserWarning: Skipping G63-44104-1111-20675.wav, no truth found.\n",
      "  warn('Skipping ' + wav_file + ', no truth found.')\n",
      "C:\\Users\\Michel\\FH\\IP6\\git\\music_transcription\\read_data.py:133: UserWarning: Skipping G71-40100-1111-20749.wav, no truth found.\n",
      "  warn('Skipping ' + wav_file + ', no truth found.')\n",
      "C:\\Users\\Michel\\FH\\IP6\\git\\music_transcription\\read_data.py:133: UserWarning: Skipping G83-45105-1111-20988.wav, no truth found.\n",
      "  warn('Skipping ' + wav_file + ', no truth found.')\n",
      "C:\\Users\\Michel\\FH\\IP6\\git\\music_transcription\\read_data.py:133: UserWarning: Skipping G91-43103-1111-21064.wav, no truth found.\n",
      "  warn('Skipping ' + wav_file + ', no truth found.')\n",
      "C:\\Users\\Michel\\FH\\IP6\\git\\music_transcription\\read_data.py:133: UserWarning: Skipping G93-46106-1111-21145.wav, no truth found.\n",
      "  warn('Skipping ' + wav_file + ', no truth found.')\n",
      "C:\\Users\\Michel\\FH\\IP6\\git\\music_transcription\\read_data.py:133: UserWarning: Skipping P94-43120-1111-41410.wav, no truth found.\n",
      "  warn('Skipping ' + wav_file + ', no truth found.')\n",
      "C:\\Users\\Michel\\FH\\IP6\\git\\music_transcription\\read_data.py:133: UserWarning: Skipping P94-44110-1111-41396.wav, no truth found.\n",
      "  warn('Skipping ' + wav_file + ', no truth found.')\n",
      "C:\\Users\\Michel\\FH\\IP6\\git\\music_transcription\\pitch_detection\\read_data.py:164: UserWarning: Skipping ..\\data\\IDMT-SMT-GUITAR_V2\\dataset2\\annotation\\AR_NH_IV.xml, pitch 92 is out of range.\n",
      "  warn('Skipping {}, pitch {} is out of range.'.format(path_to_xml, pitch))\n",
      "C:\\Users\\Michel\\FH\\IP6\\git\\music_transcription\\pitch_detection\\read_data.py:164: UserWarning: Skipping ..\\data\\IDMT-SMT-GUITAR_V2\\dataset2\\annotation\\AR_NH_IX.xml, pitch 92 is out of range.\n",
      "  warn('Skipping {}, pitch {} is out of range.'.format(path_to_xml, pitch))\n",
      "C:\\Users\\Michel\\FH\\IP6\\git\\music_transcription\\pitch_detection\\read_data.py:164: UserWarning: Skipping ..\\data\\IDMT-SMT-GUITAR_V2\\dataset2\\annotation\\FS_NH_IV.xml, pitch 92 is out of range.\n",
      "  warn('Skipping {}, pitch {} is out of range.'.format(path_to_xml, pitch))\n",
      "C:\\Users\\Michel\\FH\\IP6\\git\\music_transcription\\pitch_detection\\read_data.py:164: UserWarning: Skipping ..\\data\\IDMT-SMT-GUITAR_V2\\dataset2\\annotation\\FS_NH_IX.xml, pitch 92 is out of range.\n",
      "  warn('Skipping {}, pitch {} is out of range.'.format(path_to_xml, pitch))\n",
      "C:\\Users\\Michel\\FH\\IP6\\git\\music_transcription\\pitch_detection\\read_data.py:164: UserWarning: Skipping ..\\data\\IDMT-SMT-GUITAR_V2\\dataset2\\annotation\\LP_NH_IV.xml, pitch 92 is out of range.\n",
      "  warn('Skipping {}, pitch {} is out of range.'.format(path_to_xml, pitch))\n",
      "C:\\Users\\Michel\\FH\\IP6\\git\\music_transcription\\pitch_detection\\read_data.py:164: UserWarning: Skipping ..\\data\\IDMT-SMT-GUITAR_V2\\dataset2\\annotation\\LP_NH_IX.xml, pitch 92 is out of range.\n",
      "  warn('Skipping {}, pitch {} is out of range.'.format(path_to_xml, pitch))\n",
      "C:\\Users\\Michel\\FH\\IP6\\git\\music_transcription\\pitch_detection\\read_data.py:164: UserWarning: Skipping ..\\data\\IDMT-SMT-GUITAR_V2\\dataset3\\annotation\\pathetique_poly.xml, pitch 30 is out of range.\n",
      "  warn('Skipping {}, pitch {} is out of range.'.format(path_to_xml, pitch))\n"
     ]
    },
    {
     "data": {
      "image/png": "[encoded data removed]",
      "text/plain": [
       "<matplotlib.figure.Figure at 0x2b348bf5588>"
      ]
     },
     "metadata": {},
     "output_type": "display_data"
    }
   ],
   "source": [
    "pitches = count_pitches({1, 2, 3, 9, 10, 11})\n",
    "_ = plt.bar([int(k) for k in pitches.keys()], [int(v) for v in pitches.values()])\n",
    "_ = plt.title('Datasets 1, 2, 3, 9, 10, 11')\n",
    "_ = plt.xlabel('MIDI Pitch')\n",
    "_ = plt.ylabel('Anzahl')\n",
    "_ = plt.xlim((40, 90))"
   ]
  },
  {
   "cell_type": "code",
   "execution_count": 12,
   "metadata": {
    "collapsed": false
   },
   "outputs": [
    {
     "name": "stderr",
     "output_type": "stream",
     "text": [
      "C:\\Users\\Michel\\FH\\IP6\\git\\music_transcription\\read_data.py:133: UserWarning: Skipping AR_Lick11_FN.wav, no truth found.\n",
      "  warn('Skipping ' + wav_file + ', no truth found.')\n",
      "C:\\Users\\Michel\\FH\\IP6\\git\\music_transcription\\read_data.py:133: UserWarning: Skipping AR_Lick11_KN.wav, no truth found.\n",
      "  warn('Skipping ' + wav_file + ', no truth found.')\n",
      "C:\\Users\\Michel\\FH\\IP6\\git\\music_transcription\\read_data.py:133: UserWarning: Skipping AR_Lick11_MN.wav, no truth found.\n",
      "  warn('Skipping ' + wav_file + ', no truth found.')\n",
      "C:\\Users\\Michel\\FH\\IP6\\git\\music_transcription\\read_data.py:135: UserWarning: Skipping ..\\data\\IDMT-SMT-GUITAR_V2\\dataset2\\audio\\desktop.ini, not a .wav file.\n",
      "  warn('Skipping ' + path_to_wav + ', not a .wav file.')\n",
      "C:\\Users\\Michel\\FH\\IP6\\git\\music_transcription\\read_data.py:133: UserWarning: Skipping FS_Lick11_FN.wav, no truth found.\n",
      "  warn('Skipping ' + wav_file + ', no truth found.')\n",
      "C:\\Users\\Michel\\FH\\IP6\\git\\music_transcription\\read_data.py:133: UserWarning: Skipping FS_Lick11_KN.wav, no truth found.\n",
      "  warn('Skipping ' + wav_file + ', no truth found.')\n",
      "C:\\Users\\Michel\\FH\\IP6\\git\\music_transcription\\read_data.py:133: UserWarning: Skipping FS_Lick11_MN.wav, no truth found.\n",
      "  warn('Skipping ' + wav_file + ', no truth found.')\n",
      "C:\\Users\\Michel\\FH\\IP6\\git\\music_transcription\\read_data.py:133: UserWarning: Skipping LP_Lick11_FN.wav, no truth found.\n",
      "  warn('Skipping ' + wav_file + ', no truth found.')\n",
      "C:\\Users\\Michel\\FH\\IP6\\git\\music_transcription\\read_data.py:133: UserWarning: Skipping LP_Lick11_KN.wav, no truth found.\n",
      "  warn('Skipping ' + wav_file + ', no truth found.')\n",
      "C:\\Users\\Michel\\FH\\IP6\\git\\music_transcription\\read_data.py:133: UserWarning: Skipping LP_Lick11_MN.wav, no truth found.\n",
      "  warn('Skipping ' + wav_file + ', no truth found.')\n",
      "C:\\Users\\Michel\\FH\\IP6\\git\\music_transcription\\pitch_detection\\read_data.py:164: UserWarning: Skipping ..\\data\\IDMT-SMT-GUITAR_V2\\dataset2\\annotation\\AR_NH_IV.xml, pitch 92 is out of range.\n",
      "  warn('Skipping {}, pitch {} is out of range.'.format(path_to_xml, pitch))\n",
      "C:\\Users\\Michel\\FH\\IP6\\git\\music_transcription\\pitch_detection\\read_data.py:164: UserWarning: Skipping ..\\data\\IDMT-SMT-GUITAR_V2\\dataset2\\annotation\\AR_NH_IX.xml, pitch 92 is out of range.\n",
      "  warn('Skipping {}, pitch {} is out of range.'.format(path_to_xml, pitch))\n",
      "C:\\Users\\Michel\\FH\\IP6\\git\\music_transcription\\pitch_detection\\read_data.py:164: UserWarning: Skipping ..\\data\\IDMT-SMT-GUITAR_V2\\dataset2\\annotation\\FS_NH_IV.xml, pitch 92 is out of range.\n",
      "  warn('Skipping {}, pitch {} is out of range.'.format(path_to_xml, pitch))\n",
      "C:\\Users\\Michel\\FH\\IP6\\git\\music_transcription\\pitch_detection\\read_data.py:164: UserWarning: Skipping ..\\data\\IDMT-SMT-GUITAR_V2\\dataset2\\annotation\\FS_NH_IX.xml, pitch 92 is out of range.\n",
      "  warn('Skipping {}, pitch {} is out of range.'.format(path_to_xml, pitch))\n",
      "C:\\Users\\Michel\\FH\\IP6\\git\\music_transcription\\pitch_detection\\read_data.py:164: UserWarning: Skipping ..\\data\\IDMT-SMT-GUITAR_V2\\dataset2\\annotation\\LP_NH_IV.xml, pitch 92 is out of range.\n",
      "  warn('Skipping {}, pitch {} is out of range.'.format(path_to_xml, pitch))\n",
      "C:\\Users\\Michel\\FH\\IP6\\git\\music_transcription\\pitch_detection\\read_data.py:164: UserWarning: Skipping ..\\data\\IDMT-SMT-GUITAR_V2\\dataset2\\annotation\\LP_NH_IX.xml, pitch 92 is out of range.\n",
      "  warn('Skipping {}, pitch {} is out of range.'.format(path_to_xml, pitch))\n",
      "C:\\Users\\Michel\\FH\\IP6\\git\\music_transcription\\pitch_detection\\read_data.py:164: UserWarning: Skipping ..\\data\\IDMT-SMT-GUITAR_V2\\dataset3\\annotation\\pathetique_poly.xml, pitch 30 is out of range.\n",
      "  warn('Skipping {}, pitch {} is out of range.'.format(path_to_xml, pitch))\n",
      "C:\\Users\\Michel\\FH\\IP6\\git\\music_transcription\\read_data.py:133: UserWarning: Skipping G63-44104-1111-20675.wav, no truth found.\n",
      "  warn('Skipping ' + wav_file + ', no truth found.')\n",
      "C:\\Users\\Michel\\FH\\IP6\\git\\music_transcription\\read_data.py:133: UserWarning: Skipping G71-40100-1111-20749.wav, no truth found.\n",
      "  warn('Skipping ' + wav_file + ', no truth found.')\n",
      "C:\\Users\\Michel\\FH\\IP6\\git\\music_transcription\\read_data.py:133: UserWarning: Skipping G83-45105-1111-20988.wav, no truth found.\n",
      "  warn('Skipping ' + wav_file + ', no truth found.')\n",
      "C:\\Users\\Michel\\FH\\IP6\\git\\music_transcription\\read_data.py:133: UserWarning: Skipping G91-43103-1111-21064.wav, no truth found.\n",
      "  warn('Skipping ' + wav_file + ', no truth found.')\n",
      "C:\\Users\\Michel\\FH\\IP6\\git\\music_transcription\\read_data.py:133: UserWarning: Skipping G93-46106-1111-21145.wav, no truth found.\n",
      "  warn('Skipping ' + wav_file + ', no truth found.')\n",
      "C:\\Users\\Michel\\FH\\IP6\\git\\music_transcription\\read_data.py:133: UserWarning: Skipping P94-43120-1111-41410.wav, no truth found.\n",
      "  warn('Skipping ' + wav_file + ', no truth found.')\n",
      "C:\\Users\\Michel\\FH\\IP6\\git\\music_transcription\\read_data.py:133: UserWarning: Skipping P94-44110-1111-41396.wav, no truth found.\n",
      "  warn('Skipping ' + wav_file + ', no truth found.')\n"
     ]
    },
    {
     "data": {
      "image/png": "[encoded data removed]",
      "text/plain": [
       "<matplotlib.figure.Figure at 0x2b348ae9a90>"
      ]
     },
     "metadata": {},
     "output_type": "display_data"
    }
   ],
   "source": [
    "f, axarr = plt.subplots(3, 2)\n",
    "datasets = [1, 2, 3, 9, 10, 11]\n",
    "ds_index = 0\n",
    "for i in range(axarr.shape[0]):\n",
    "    for j in range(axarr.shape[1]):\n",
    "        ds = datasets[ds_index]\n",
    "        pitches = count_pitches({ds})\n",
    "        _ = axarr[i, j].bar([int(k) for k in pitches.keys()], [int(v) for v in pitches.values()])\n",
    "        _ = axarr[i, j].set_title('Dataset {}'.format(ds))\n",
    "        _ = axarr[i, j].set_xlabel('MIDI Pitch')\n",
    "        _ = axarr[i, j].set_ylabel('Anzahl')\n",
    "        _ = axarr[i, j].set_xlim((40, 90))\n",
    "        _ = axarr[i, j].locator_params(nbins=4)\n",
    "        ds_index += 1\n",
    "f.tight_layout()"
   ]
  }
 ],
 "metadata": {
  "anaconda-cloud": {},
  "kernelspec": {
   "display_name": "Python [conda root]",
   "language": "python",
   "name": "conda-root-py"
  },
  "language_info": {
   "codemirror_mode": {
    "name": "ipython",
    "version": 3
   },
   "file_extension": ".py",
   "mimetype": "text/x-python",
   "name": "python",
   "nbconvert_exporter": "python",
   "pygments_lexer": "ipython3",
   "version": "3.5.2"
  }
 },
 "nbformat": 4,
 "nbformat_minor": 1
}
